{
  "nbformat": 4,
  "nbformat_minor": 0,
  "metadata": {
    "colab": {
      "provenance": [],
      "authorship_tag": "ABX9TyPeAZhrXkUDxEy/Nz898t63",
      "include_colab_link": true
    },
    "kernelspec": {
      "name": "python3",
      "display_name": "Python 3"
    },
    "language_info": {
      "name": "python"
    }
  },
  "cells": [
    {
      "cell_type": "markdown",
      "metadata": {
        "id": "view-in-github",
        "colab_type": "text"
      },
      "source": [
        "<a href=\"https://colab.research.google.com/github/Ferdianap/python_for_datascience/blob/main/Gaji_Budi.ipynb\" target=\"_parent\"><img src=\"https://colab.research.google.com/assets/colab-badge.svg\" alt=\"Open In Colab\"/></a>"
      ]
    },
    {
      "cell_type": "code",
      "execution_count": 4,
      "metadata": {
        "colab": {
          "base_uri": "https://localhost:8080/"
        },
        "id": "wIkx8s_ONXRt",
        "outputId": "12381540-1a4d-466e-a8ba-59393307b6c5"
      },
      "outputs": [
        {
          "output_type": "stream",
          "name": "stdout",
          "text": [
            "Pendapatan Budi sebelum pajak: 12000000\n",
            "Pendapatan Budi setelah pajak: 10320000.0\n",
            "Jumlah uang untuk baju dan aksesoris: 1032000.0\n",
            "Jumlah uang untuk alat tulis: 103200.0\n",
            "Jumlah uang yang disedekahkan: 2296200.0\n",
            "Jumlah uang untuk anak yatim: 688860.0\n",
            "Jumlah uang untuk kaum dhuafa: 1607340.0\n"
          ]
        }
      ],
      "source": [
        "# Input data\n",
        "gaji_per_jam = 60000\n",
        "jumlah_jam_per_minggu = 40\n",
        "lama_kerja_minggu = 5\n",
        "pajak_total = 0.14\n",
        "pajak_baju_aksesoris = 0.1\n",
        "pajak_alat_tulis = 0.01\n",
        "persentase_sedekah = 0.25\n",
        "\n",
        "# 1.Pendapatan Budi selama libur musim panas sebelum pajak\n",
        "pendapatan_sebelum_pajak = gaji_per_jam * jumlah_jam_per_minggu * lama_kerja_minggu\n",
        "\n",
        "# 2. Pendapatan Budi setelah pajak\n",
        "pendapatan_setelah_pajak = pendapatan_sebelum_pajak * (1 - pajak_total)\n",
        "\n",
        "# 3. Jumlah uang untuk membeli baju dan aksesoris\n",
        "uang_baju_aksesoris = pendapatan_setelah_pajak * pajak_baju_aksesoris\n",
        "\n",
        "# 4. Jumlah uang untuk membeli alat tulis\n",
        "uang_alat_tulis = pendapatan_setelah_pajak * pajak_alat_tulis\n",
        "\n",
        "# Hitung sisa uang setelah kebutuhan\n",
        "sisa_uang = pendapatan_setelah_pajak - (uang_baju_aksesoris + uang_alat_tulis)\n",
        "\n",
        "# 5. Jumlah uang untuk disedekahkan\n",
        "uang_sedekah = sisa_uang * persentase_sedekah\n",
        "\n",
        "# 6. Jumlah uang yang akan diterima anak yatim (30% dari uang sedekah)\n",
        "uang_anak_yatim = uang_sedekah * 0.3\n",
        "\n",
        "# 7. Jumlah uang yang akan diterima kaum dhuafa (sisa dari uang sedekah)\n",
        "uang_kaum_dhuafa = uang_sedekah * 0.7\n",
        "\n",
        "# Cetak hasil\n",
        "print(\"Pendapatan Budi sebelum pajak:\", pendapatan_sebelum_pajak)\n",
        "print(\"Pendapatan Budi setelah pajak:\", pendapatan_setelah_pajak)\n",
        "print(\"Jumlah uang untuk baju dan aksesoris:\", uang_baju_aksesoris)\n",
        "print(\"Jumlah uang untuk alat tulis:\", uang_alat_tulis)\n",
        "print(\"Jumlah uang yang disedekahkan:\", uang_sedekah)\n",
        "print(\"Jumlah uang untuk anak yatim:\", uang_anak_yatim)\n",
        "print(\"Jumlah uang untuk kaum dhuafa:\", uang_kaum_dhuafa)\n"
      ]
    }
  ]
}