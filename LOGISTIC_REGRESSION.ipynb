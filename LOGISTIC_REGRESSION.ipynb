{
  "nbformat": 4,
  "nbformat_minor": 0,
  "metadata": {
    "colab": {
      "provenance": [],
      "toc_visible": true,
      "include_colab_link": true
    },
    "kernelspec": {
      "name": "python3",
      "display_name": "Python 3"
    },
    "language_info": {
      "name": "python"
    }
  },
  "cells": [
    {
      "cell_type": "markdown",
      "metadata": {
        "id": "view-in-github",
        "colab_type": "text"
      },
      "source": [
        "<a href=\"https://colab.research.google.com/github/Ferdianap/python_for_datascience/blob/main/LOGISTIC_REGRESSION.ipynb\" target=\"_parent\"><img src=\"https://colab.research.google.com/assets/colab-badge.svg\" alt=\"Open In Colab\"/></a>"
      ]
    },
    {
      "cell_type": "markdown",
      "source": [
        "## Data"
      ],
      "metadata": {
        "id": "OobEP-1ENG7f"
      }
    },
    {
      "cell_type": "markdown",
      "source": [
        "\n",
        "\n",
        "**Link Dataset :**\n",
        "https://www.kaggle.com/datasets/bhadramohit/customer-shopping-latest-trends-dataset"
      ],
      "metadata": {
        "id": "TuSE1ENVNPQr"
      }
    },
    {
      "cell_type": "markdown",
      "source": [
        "# PREDIKSI DENGAN REGRESI LOGSTIK"
      ],
      "metadata": {
        "id": "jKLHlI6QM_4G"
      }
    },
    {
      "cell_type": "markdown",
      "source": [
        "## Import Library"
      ],
      "metadata": {
        "id": "gKR6T7WaOEkp"
      }
    },
    {
      "cell_type": "code",
      "source": [
        "#importing Libraries\n",
        "import pandas as pd\n",
        "import numpy as np\n",
        "import matplotlib.pyplot as plt\n",
        "import seaborn as sns\n",
        "from sklearn.model_selection import train_test_split\n",
        "from sklearn.linear_model import LogisticRegression\n",
        "from sklearn.metrics import accuracy_score, confusion_matrix, classification_report\n",
        "from sklearn.preprocessing import LabelEncoder"
      ],
      "metadata": {
        "id": "Mzox2W_uNGbe"
      },
      "execution_count": null,
      "outputs": []
    },
    {
      "cell_type": "markdown",
      "source": [
        "## Load Data"
      ],
      "metadata": {
        "id": "Q1_gPN9-OTV0"
      }
    },
    {
      "cell_type": "code",
      "source": [
        "df = pd.read_csv('/content/shopping_trends.csv')\n",
        "df.head()"
      ],
      "metadata": {
        "colab": {
          "base_uri": "https://localhost:8080/",
          "height": 347
        },
        "id": "TABnbs-jOPW5",
        "outputId": "9de5129d-7f73-40d4-9f06-ea76df2107fd"
      },
      "execution_count": null,
      "outputs": [
        {
          "output_type": "execute_result",
          "data": {
            "text/plain": [
              "   Customer ID  Age Gender Item Purchased  Category  Purchase Amount (USD)  \\\n",
              "0            1   55   Male         Blouse  Clothing                     53   \n",
              "1            2   19   Male        Sweater  Clothing                     64   \n",
              "2            3   50   Male          Jeans  Clothing                     73   \n",
              "3            4   21   Male        Sandals  Footwear                     90   \n",
              "4            5   45   Male         Blouse  Clothing                     49   \n",
              "\n",
              "        Location Size      Color  Season  Review Rating Subscription Status  \\\n",
              "0       Kentucky    L       Gray  Winter            3.1                 Yes   \n",
              "1          Maine    L     Maroon  Winter            3.1                 Yes   \n",
              "2  Massachusetts    S     Maroon  Spring            3.1                 Yes   \n",
              "3   Rhode Island    M     Maroon  Spring            3.5                 Yes   \n",
              "4         Oregon    M  Turquoise  Spring            2.7                 Yes   \n",
              "\n",
              "  Payment Method  Shipping Type Discount Applied Promo Code Used  \\\n",
              "0    Credit Card        Express              Yes             Yes   \n",
              "1  Bank Transfer        Express              Yes             Yes   \n",
              "2           Cash  Free Shipping              Yes             Yes   \n",
              "3         PayPal   Next Day Air              Yes             Yes   \n",
              "4           Cash  Free Shipping              Yes             Yes   \n",
              "\n",
              "   Previous Purchases Preferred Payment Method Frequency of Purchases  \n",
              "0                  14                    Venmo            Fortnightly  \n",
              "1                   2                     Cash            Fortnightly  \n",
              "2                  23              Credit Card                 Weekly  \n",
              "3                  49                   PayPal                 Weekly  \n",
              "4                  31                   PayPal               Annually  "
            ],
            "text/html": [
              "\n",
              "  <div id=\"df-76f0a7f0-4907-4470-8fc0-9c673818819f\" class=\"colab-df-container\">\n",
              "    <div>\n",
              "<style scoped>\n",
              "    .dataframe tbody tr th:only-of-type {\n",
              "        vertical-align: middle;\n",
              "    }\n",
              "\n",
              "    .dataframe tbody tr th {\n",
              "        vertical-align: top;\n",
              "    }\n",
              "\n",
              "    .dataframe thead th {\n",
              "        text-align: right;\n",
              "    }\n",
              "</style>\n",
              "<table border=\"1\" class=\"dataframe\">\n",
              "  <thead>\n",
              "    <tr style=\"text-align: right;\">\n",
              "      <th></th>\n",
              "      <th>Customer ID</th>\n",
              "      <th>Age</th>\n",
              "      <th>Gender</th>\n",
              "      <th>Item Purchased</th>\n",
              "      <th>Category</th>\n",
              "      <th>Purchase Amount (USD)</th>\n",
              "      <th>Location</th>\n",
              "      <th>Size</th>\n",
              "      <th>Color</th>\n",
              "      <th>Season</th>\n",
              "      <th>Review Rating</th>\n",
              "      <th>Subscription Status</th>\n",
              "      <th>Payment Method</th>\n",
              "      <th>Shipping Type</th>\n",
              "      <th>Discount Applied</th>\n",
              "      <th>Promo Code Used</th>\n",
              "      <th>Previous Purchases</th>\n",
              "      <th>Preferred Payment Method</th>\n",
              "      <th>Frequency of Purchases</th>\n",
              "    </tr>\n",
              "  </thead>\n",
              "  <tbody>\n",
              "    <tr>\n",
              "      <th>0</th>\n",
              "      <td>1</td>\n",
              "      <td>55</td>\n",
              "      <td>Male</td>\n",
              "      <td>Blouse</td>\n",
              "      <td>Clothing</td>\n",
              "      <td>53</td>\n",
              "      <td>Kentucky</td>\n",
              "      <td>L</td>\n",
              "      <td>Gray</td>\n",
              "      <td>Winter</td>\n",
              "      <td>3.1</td>\n",
              "      <td>Yes</td>\n",
              "      <td>Credit Card</td>\n",
              "      <td>Express</td>\n",
              "      <td>Yes</td>\n",
              "      <td>Yes</td>\n",
              "      <td>14</td>\n",
              "      <td>Venmo</td>\n",
              "      <td>Fortnightly</td>\n",
              "    </tr>\n",
              "    <tr>\n",
              "      <th>1</th>\n",
              "      <td>2</td>\n",
              "      <td>19</td>\n",
              "      <td>Male</td>\n",
              "      <td>Sweater</td>\n",
              "      <td>Clothing</td>\n",
              "      <td>64</td>\n",
              "      <td>Maine</td>\n",
              "      <td>L</td>\n",
              "      <td>Maroon</td>\n",
              "      <td>Winter</td>\n",
              "      <td>3.1</td>\n",
              "      <td>Yes</td>\n",
              "      <td>Bank Transfer</td>\n",
              "      <td>Express</td>\n",
              "      <td>Yes</td>\n",
              "      <td>Yes</td>\n",
              "      <td>2</td>\n",
              "      <td>Cash</td>\n",
              "      <td>Fortnightly</td>\n",
              "    </tr>\n",
              "    <tr>\n",
              "      <th>2</th>\n",
              "      <td>3</td>\n",
              "      <td>50</td>\n",
              "      <td>Male</td>\n",
              "      <td>Jeans</td>\n",
              "      <td>Clothing</td>\n",
              "      <td>73</td>\n",
              "      <td>Massachusetts</td>\n",
              "      <td>S</td>\n",
              "      <td>Maroon</td>\n",
              "      <td>Spring</td>\n",
              "      <td>3.1</td>\n",
              "      <td>Yes</td>\n",
              "      <td>Cash</td>\n",
              "      <td>Free Shipping</td>\n",
              "      <td>Yes</td>\n",
              "      <td>Yes</td>\n",
              "      <td>23</td>\n",
              "      <td>Credit Card</td>\n",
              "      <td>Weekly</td>\n",
              "    </tr>\n",
              "    <tr>\n",
              "      <th>3</th>\n",
              "      <td>4</td>\n",
              "      <td>21</td>\n",
              "      <td>Male</td>\n",
              "      <td>Sandals</td>\n",
              "      <td>Footwear</td>\n",
              "      <td>90</td>\n",
              "      <td>Rhode Island</td>\n",
              "      <td>M</td>\n",
              "      <td>Maroon</td>\n",
              "      <td>Spring</td>\n",
              "      <td>3.5</td>\n",
              "      <td>Yes</td>\n",
              "      <td>PayPal</td>\n",
              "      <td>Next Day Air</td>\n",
              "      <td>Yes</td>\n",
              "      <td>Yes</td>\n",
              "      <td>49</td>\n",
              "      <td>PayPal</td>\n",
              "      <td>Weekly</td>\n",
              "    </tr>\n",
              "    <tr>\n",
              "      <th>4</th>\n",
              "      <td>5</td>\n",
              "      <td>45</td>\n",
              "      <td>Male</td>\n",
              "      <td>Blouse</td>\n",
              "      <td>Clothing</td>\n",
              "      <td>49</td>\n",
              "      <td>Oregon</td>\n",
              "      <td>M</td>\n",
              "      <td>Turquoise</td>\n",
              "      <td>Spring</td>\n",
              "      <td>2.7</td>\n",
              "      <td>Yes</td>\n",
              "      <td>Cash</td>\n",
              "      <td>Free Shipping</td>\n",
              "      <td>Yes</td>\n",
              "      <td>Yes</td>\n",
              "      <td>31</td>\n",
              "      <td>PayPal</td>\n",
              "      <td>Annually</td>\n",
              "    </tr>\n",
              "  </tbody>\n",
              "</table>\n",
              "</div>\n",
              "    <div class=\"colab-df-buttons\">\n",
              "\n",
              "  <div class=\"colab-df-container\">\n",
              "    <button class=\"colab-df-convert\" onclick=\"convertToInteractive('df-76f0a7f0-4907-4470-8fc0-9c673818819f')\"\n",
              "            title=\"Convert this dataframe to an interactive table.\"\n",
              "            style=\"display:none;\">\n",
              "\n",
              "  <svg xmlns=\"http://www.w3.org/2000/svg\" height=\"24px\" viewBox=\"0 -960 960 960\">\n",
              "    <path d=\"M120-120v-720h720v720H120Zm60-500h600v-160H180v160Zm220 220h160v-160H400v160Zm0 220h160v-160H400v160ZM180-400h160v-160H180v160Zm440 0h160v-160H620v160ZM180-180h160v-160H180v160Zm440 0h160v-160H620v160Z\"/>\n",
              "  </svg>\n",
              "    </button>\n",
              "\n",
              "  <style>\n",
              "    .colab-df-container {\n",
              "      display:flex;\n",
              "      gap: 12px;\n",
              "    }\n",
              "\n",
              "    .colab-df-convert {\n",
              "      background-color: #E8F0FE;\n",
              "      border: none;\n",
              "      border-radius: 50%;\n",
              "      cursor: pointer;\n",
              "      display: none;\n",
              "      fill: #1967D2;\n",
              "      height: 32px;\n",
              "      padding: 0 0 0 0;\n",
              "      width: 32px;\n",
              "    }\n",
              "\n",
              "    .colab-df-convert:hover {\n",
              "      background-color: #E2EBFA;\n",
              "      box-shadow: 0px 1px 2px rgba(60, 64, 67, 0.3), 0px 1px 3px 1px rgba(60, 64, 67, 0.15);\n",
              "      fill: #174EA6;\n",
              "    }\n",
              "\n",
              "    .colab-df-buttons div {\n",
              "      margin-bottom: 4px;\n",
              "    }\n",
              "\n",
              "    [theme=dark] .colab-df-convert {\n",
              "      background-color: #3B4455;\n",
              "      fill: #D2E3FC;\n",
              "    }\n",
              "\n",
              "    [theme=dark] .colab-df-convert:hover {\n",
              "      background-color: #434B5C;\n",
              "      box-shadow: 0px 1px 3px 1px rgba(0, 0, 0, 0.15);\n",
              "      filter: drop-shadow(0px 1px 2px rgba(0, 0, 0, 0.3));\n",
              "      fill: #FFFFFF;\n",
              "    }\n",
              "  </style>\n",
              "\n",
              "    <script>\n",
              "      const buttonEl =\n",
              "        document.querySelector('#df-76f0a7f0-4907-4470-8fc0-9c673818819f button.colab-df-convert');\n",
              "      buttonEl.style.display =\n",
              "        google.colab.kernel.accessAllowed ? 'block' : 'none';\n",
              "\n",
              "      async function convertToInteractive(key) {\n",
              "        const element = document.querySelector('#df-76f0a7f0-4907-4470-8fc0-9c673818819f');\n",
              "        const dataTable =\n",
              "          await google.colab.kernel.invokeFunction('convertToInteractive',\n",
              "                                                    [key], {});\n",
              "        if (!dataTable) return;\n",
              "\n",
              "        const docLinkHtml = 'Like what you see? Visit the ' +\n",
              "          '<a target=\"_blank\" href=https://colab.research.google.com/notebooks/data_table.ipynb>data table notebook</a>'\n",
              "          + ' to learn more about interactive tables.';\n",
              "        element.innerHTML = '';\n",
              "        dataTable['output_type'] = 'display_data';\n",
              "        await google.colab.output.renderOutput(dataTable, element);\n",
              "        const docLink = document.createElement('div');\n",
              "        docLink.innerHTML = docLinkHtml;\n",
              "        element.appendChild(docLink);\n",
              "      }\n",
              "    </script>\n",
              "  </div>\n",
              "\n",
              "\n",
              "<div id=\"df-273260bd-5406-4447-a652-8c739bdf5159\">\n",
              "  <button class=\"colab-df-quickchart\" onclick=\"quickchart('df-273260bd-5406-4447-a652-8c739bdf5159')\"\n",
              "            title=\"Suggest charts\"\n",
              "            style=\"display:none;\">\n",
              "\n",
              "<svg xmlns=\"http://www.w3.org/2000/svg\" height=\"24px\"viewBox=\"0 0 24 24\"\n",
              "     width=\"24px\">\n",
              "    <g>\n",
              "        <path d=\"M19 3H5c-1.1 0-2 .9-2 2v14c0 1.1.9 2 2 2h14c1.1 0 2-.9 2-2V5c0-1.1-.9-2-2-2zM9 17H7v-7h2v7zm4 0h-2V7h2v10zm4 0h-2v-4h2v4z\"/>\n",
              "    </g>\n",
              "</svg>\n",
              "  </button>\n",
              "\n",
              "<style>\n",
              "  .colab-df-quickchart {\n",
              "      --bg-color: #E8F0FE;\n",
              "      --fill-color: #1967D2;\n",
              "      --hover-bg-color: #E2EBFA;\n",
              "      --hover-fill-color: #174EA6;\n",
              "      --disabled-fill-color: #AAA;\n",
              "      --disabled-bg-color: #DDD;\n",
              "  }\n",
              "\n",
              "  [theme=dark] .colab-df-quickchart {\n",
              "      --bg-color: #3B4455;\n",
              "      --fill-color: #D2E3FC;\n",
              "      --hover-bg-color: #434B5C;\n",
              "      --hover-fill-color: #FFFFFF;\n",
              "      --disabled-bg-color: #3B4455;\n",
              "      --disabled-fill-color: #666;\n",
              "  }\n",
              "\n",
              "  .colab-df-quickchart {\n",
              "    background-color: var(--bg-color);\n",
              "    border: none;\n",
              "    border-radius: 50%;\n",
              "    cursor: pointer;\n",
              "    display: none;\n",
              "    fill: var(--fill-color);\n",
              "    height: 32px;\n",
              "    padding: 0;\n",
              "    width: 32px;\n",
              "  }\n",
              "\n",
              "  .colab-df-quickchart:hover {\n",
              "    background-color: var(--hover-bg-color);\n",
              "    box-shadow: 0 1px 2px rgba(60, 64, 67, 0.3), 0 1px 3px 1px rgba(60, 64, 67, 0.15);\n",
              "    fill: var(--button-hover-fill-color);\n",
              "  }\n",
              "\n",
              "  .colab-df-quickchart-complete:disabled,\n",
              "  .colab-df-quickchart-complete:disabled:hover {\n",
              "    background-color: var(--disabled-bg-color);\n",
              "    fill: var(--disabled-fill-color);\n",
              "    box-shadow: none;\n",
              "  }\n",
              "\n",
              "  .colab-df-spinner {\n",
              "    border: 2px solid var(--fill-color);\n",
              "    border-color: transparent;\n",
              "    border-bottom-color: var(--fill-color);\n",
              "    animation:\n",
              "      spin 1s steps(1) infinite;\n",
              "  }\n",
              "\n",
              "  @keyframes spin {\n",
              "    0% {\n",
              "      border-color: transparent;\n",
              "      border-bottom-color: var(--fill-color);\n",
              "      border-left-color: var(--fill-color);\n",
              "    }\n",
              "    20% {\n",
              "      border-color: transparent;\n",
              "      border-left-color: var(--fill-color);\n",
              "      border-top-color: var(--fill-color);\n",
              "    }\n",
              "    30% {\n",
              "      border-color: transparent;\n",
              "      border-left-color: var(--fill-color);\n",
              "      border-top-color: var(--fill-color);\n",
              "      border-right-color: var(--fill-color);\n",
              "    }\n",
              "    40% {\n",
              "      border-color: transparent;\n",
              "      border-right-color: var(--fill-color);\n",
              "      border-top-color: var(--fill-color);\n",
              "    }\n",
              "    60% {\n",
              "      border-color: transparent;\n",
              "      border-right-color: var(--fill-color);\n",
              "    }\n",
              "    80% {\n",
              "      border-color: transparent;\n",
              "      border-right-color: var(--fill-color);\n",
              "      border-bottom-color: var(--fill-color);\n",
              "    }\n",
              "    90% {\n",
              "      border-color: transparent;\n",
              "      border-bottom-color: var(--fill-color);\n",
              "    }\n",
              "  }\n",
              "</style>\n",
              "\n",
              "  <script>\n",
              "    async function quickchart(key) {\n",
              "      const quickchartButtonEl =\n",
              "        document.querySelector('#' + key + ' button');\n",
              "      quickchartButtonEl.disabled = true;  // To prevent multiple clicks.\n",
              "      quickchartButtonEl.classList.add('colab-df-spinner');\n",
              "      try {\n",
              "        const charts = await google.colab.kernel.invokeFunction(\n",
              "            'suggestCharts', [key], {});\n",
              "      } catch (error) {\n",
              "        console.error('Error during call to suggestCharts:', error);\n",
              "      }\n",
              "      quickchartButtonEl.classList.remove('colab-df-spinner');\n",
              "      quickchartButtonEl.classList.add('colab-df-quickchart-complete');\n",
              "    }\n",
              "    (() => {\n",
              "      let quickchartButtonEl =\n",
              "        document.querySelector('#df-273260bd-5406-4447-a652-8c739bdf5159 button');\n",
              "      quickchartButtonEl.style.display =\n",
              "        google.colab.kernel.accessAllowed ? 'block' : 'none';\n",
              "    })();\n",
              "  </script>\n",
              "</div>\n",
              "\n",
              "    </div>\n",
              "  </div>\n"
            ],
            "application/vnd.google.colaboratory.intrinsic+json": {
              "type": "dataframe",
              "variable_name": "df",
              "summary": "{\n  \"name\": \"df\",\n  \"rows\": 3900,\n  \"fields\": [\n    {\n      \"column\": \"Customer ID\",\n      \"properties\": {\n        \"dtype\": \"number\",\n        \"std\": 1125,\n        \"min\": 1,\n        \"max\": 3900,\n        \"num_unique_values\": 3900,\n        \"samples\": [\n          840,\n          1718,\n          322\n        ],\n        \"semantic_type\": \"\",\n        \"description\": \"\"\n      }\n    },\n    {\n      \"column\": \"Age\",\n      \"properties\": {\n        \"dtype\": \"number\",\n        \"std\": 15,\n        \"min\": 18,\n        \"max\": 70,\n        \"num_unique_values\": 53,\n        \"samples\": [\n          56,\n          24,\n          51\n        ],\n        \"semantic_type\": \"\",\n        \"description\": \"\"\n      }\n    },\n    {\n      \"column\": \"Gender\",\n      \"properties\": {\n        \"dtype\": \"category\",\n        \"num_unique_values\": 2,\n        \"samples\": [\n          \"Female\",\n          \"Male\"\n        ],\n        \"semantic_type\": \"\",\n        \"description\": \"\"\n      }\n    },\n    {\n      \"column\": \"Item Purchased\",\n      \"properties\": {\n        \"dtype\": \"category\",\n        \"num_unique_values\": 25,\n        \"samples\": [\n          \"Handbag\",\n          \"Jewelry\"\n        ],\n        \"semantic_type\": \"\",\n        \"description\": \"\"\n      }\n    },\n    {\n      \"column\": \"Category\",\n      \"properties\": {\n        \"dtype\": \"category\",\n        \"num_unique_values\": 4,\n        \"samples\": [\n          \"Footwear\",\n          \"Accessories\"\n        ],\n        \"semantic_type\": \"\",\n        \"description\": \"\"\n      }\n    },\n    {\n      \"column\": \"Purchase Amount (USD)\",\n      \"properties\": {\n        \"dtype\": \"number\",\n        \"std\": 23,\n        \"min\": 20,\n        \"max\": 100,\n        \"num_unique_values\": 81,\n        \"samples\": [\n          60,\n          53\n        ],\n        \"semantic_type\": \"\",\n        \"description\": \"\"\n      }\n    },\n    {\n      \"column\": \"Location\",\n      \"properties\": {\n        \"dtype\": \"category\",\n        \"num_unique_values\": 50,\n        \"samples\": [\n          \"New Hampshire\",\n          \"Connecticut\"\n        ],\n        \"semantic_type\": \"\",\n        \"description\": \"\"\n      }\n    },\n    {\n      \"column\": \"Size\",\n      \"properties\": {\n        \"dtype\": \"category\",\n        \"num_unique_values\": 4,\n        \"samples\": [\n          \"S\",\n          \"XL\"\n        ],\n        \"semantic_type\": \"\",\n        \"description\": \"\"\n      }\n    },\n    {\n      \"column\": \"Color\",\n      \"properties\": {\n        \"dtype\": \"category\",\n        \"num_unique_values\": 25,\n        \"samples\": [\n          \"Olive\",\n          \"Red\"\n        ],\n        \"semantic_type\": \"\",\n        \"description\": \"\"\n      }\n    },\n    {\n      \"column\": \"Season\",\n      \"properties\": {\n        \"dtype\": \"category\",\n        \"num_unique_values\": 4,\n        \"samples\": [\n          \"Spring\",\n          \"Fall\"\n        ],\n        \"semantic_type\": \"\",\n        \"description\": \"\"\n      }\n    },\n    {\n      \"column\": \"Review Rating\",\n      \"properties\": {\n        \"dtype\": \"number\",\n        \"std\": 0.7162228139312449,\n        \"min\": 2.5,\n        \"max\": 5.0,\n        \"num_unique_values\": 26,\n        \"samples\": [\n          4.9,\n          5.0\n        ],\n        \"semantic_type\": \"\",\n        \"description\": \"\"\n      }\n    },\n    {\n      \"column\": \"Subscription Status\",\n      \"properties\": {\n        \"dtype\": \"category\",\n        \"num_unique_values\": 2,\n        \"samples\": [\n          \"No\",\n          \"Yes\"\n        ],\n        \"semantic_type\": \"\",\n        \"description\": \"\"\n      }\n    },\n    {\n      \"column\": \"Payment Method\",\n      \"properties\": {\n        \"dtype\": \"category\",\n        \"num_unique_values\": 6,\n        \"samples\": [\n          \"Credit Card\",\n          \"Bank Transfer\"\n        ],\n        \"semantic_type\": \"\",\n        \"description\": \"\"\n      }\n    },\n    {\n      \"column\": \"Shipping Type\",\n      \"properties\": {\n        \"dtype\": \"category\",\n        \"num_unique_values\": 6,\n        \"samples\": [\n          \"Express\",\n          \"Free Shipping\"\n        ],\n        \"semantic_type\": \"\",\n        \"description\": \"\"\n      }\n    },\n    {\n      \"column\": \"Discount Applied\",\n      \"properties\": {\n        \"dtype\": \"category\",\n        \"num_unique_values\": 2,\n        \"samples\": [\n          \"No\",\n          \"Yes\"\n        ],\n        \"semantic_type\": \"\",\n        \"description\": \"\"\n      }\n    },\n    {\n      \"column\": \"Promo Code Used\",\n      \"properties\": {\n        \"dtype\": \"category\",\n        \"num_unique_values\": 2,\n        \"samples\": [\n          \"No\",\n          \"Yes\"\n        ],\n        \"semantic_type\": \"\",\n        \"description\": \"\"\n      }\n    },\n    {\n      \"column\": \"Previous Purchases\",\n      \"properties\": {\n        \"dtype\": \"number\",\n        \"std\": 14,\n        \"min\": 1,\n        \"max\": 50,\n        \"num_unique_values\": 50,\n        \"samples\": [\n          36,\n          47\n        ],\n        \"semantic_type\": \"\",\n        \"description\": \"\"\n      }\n    },\n    {\n      \"column\": \"Preferred Payment Method\",\n      \"properties\": {\n        \"dtype\": \"category\",\n        \"num_unique_values\": 6,\n        \"samples\": [\n          \"Venmo\",\n          \"Cash\"\n        ],\n        \"semantic_type\": \"\",\n        \"description\": \"\"\n      }\n    },\n    {\n      \"column\": \"Frequency of Purchases\",\n      \"properties\": {\n        \"dtype\": \"category\",\n        \"num_unique_values\": 7,\n        \"samples\": [\n          \"Fortnightly\",\n          \"Weekly\"\n        ],\n        \"semantic_type\": \"\",\n        \"description\": \"\"\n      }\n    }\n  ]\n}"
            }
          },
          "metadata": {},
          "execution_count": 247
        }
      ]
    },
    {
      "cell_type": "markdown",
      "source": [
        "## Data Understanding"
      ],
      "metadata": {
        "id": "m0hPxpzFOrU0"
      }
    },
    {
      "cell_type": "code",
      "source": [
        "df.shape"
      ],
      "metadata": {
        "colab": {
          "base_uri": "https://localhost:8080/"
        },
        "id": "U_GkMpsuOtKn",
        "outputId": "d937ce31-e369-4dbe-c927-56cfedfb1907"
      },
      "execution_count": null,
      "outputs": [
        {
          "output_type": "execute_result",
          "data": {
            "text/plain": [
              "(3900, 19)"
            ]
          },
          "metadata": {},
          "execution_count": 248
        }
      ]
    },
    {
      "cell_type": "code",
      "source": [
        "df.info()"
      ],
      "metadata": {
        "colab": {
          "base_uri": "https://localhost:8080/"
        },
        "id": "paZUJLFrOvyh",
        "outputId": "b31912f8-919a-4469-80b7-dd26b91ca71e"
      },
      "execution_count": null,
      "outputs": [
        {
          "output_type": "stream",
          "name": "stdout",
          "text": [
            "<class 'pandas.core.frame.DataFrame'>\n",
            "RangeIndex: 3900 entries, 0 to 3899\n",
            "Data columns (total 19 columns):\n",
            " #   Column                    Non-Null Count  Dtype  \n",
            "---  ------                    --------------  -----  \n",
            " 0   Customer ID               3900 non-null   int64  \n",
            " 1   Age                       3900 non-null   int64  \n",
            " 2   Gender                    3900 non-null   object \n",
            " 3   Item Purchased            3900 non-null   object \n",
            " 4   Category                  3900 non-null   object \n",
            " 5   Purchase Amount (USD)     3900 non-null   int64  \n",
            " 6   Location                  3900 non-null   object \n",
            " 7   Size                      3900 non-null   object \n",
            " 8   Color                     3900 non-null   object \n",
            " 9   Season                    3900 non-null   object \n",
            " 10  Review Rating             3900 non-null   float64\n",
            " 11  Subscription Status       3900 non-null   object \n",
            " 12  Payment Method            3900 non-null   object \n",
            " 13  Shipping Type             3900 non-null   object \n",
            " 14  Discount Applied          3900 non-null   object \n",
            " 15  Promo Code Used           3900 non-null   object \n",
            " 16  Previous Purchases        3900 non-null   int64  \n",
            " 17  Preferred Payment Method  3900 non-null   object \n",
            " 18  Frequency of Purchases    3900 non-null   object \n",
            "dtypes: float64(1), int64(4), object(14)\n",
            "memory usage: 579.0+ KB\n"
          ]
        }
      ]
    },
    {
      "cell_type": "code",
      "source": [
        "df.describe()"
      ],
      "metadata": {
        "colab": {
          "base_uri": "https://localhost:8080/",
          "height": 300
        },
        "id": "8raGE3_DYjt5",
        "outputId": "c7a5848b-ac48-4253-cd04-813f30dc073c"
      },
      "execution_count": null,
      "outputs": [
        {
          "output_type": "execute_result",
          "data": {
            "text/plain": [
              "       Customer ID          Age  Purchase Amount (USD)  Review Rating  \\\n",
              "count  3900.000000  3900.000000            3900.000000    3900.000000   \n",
              "mean   1950.500000    44.068462              59.764359       3.749949   \n",
              "std    1125.977353    15.207589              23.685392       0.716223   \n",
              "min       1.000000    18.000000              20.000000       2.500000   \n",
              "25%     975.750000    31.000000              39.000000       3.100000   \n",
              "50%    1950.500000    44.000000              60.000000       3.700000   \n",
              "75%    2925.250000    57.000000              81.000000       4.400000   \n",
              "max    3900.000000    70.000000             100.000000       5.000000   \n",
              "\n",
              "       Previous Purchases  \n",
              "count         3900.000000  \n",
              "mean            25.351538  \n",
              "std             14.447125  \n",
              "min              1.000000  \n",
              "25%             13.000000  \n",
              "50%             25.000000  \n",
              "75%             38.000000  \n",
              "max             50.000000  "
            ],
            "text/html": [
              "\n",
              "  <div id=\"df-49100c73-33b1-4408-842b-e56d58a0a05a\" class=\"colab-df-container\">\n",
              "    <div>\n",
              "<style scoped>\n",
              "    .dataframe tbody tr th:only-of-type {\n",
              "        vertical-align: middle;\n",
              "    }\n",
              "\n",
              "    .dataframe tbody tr th {\n",
              "        vertical-align: top;\n",
              "    }\n",
              "\n",
              "    .dataframe thead th {\n",
              "        text-align: right;\n",
              "    }\n",
              "</style>\n",
              "<table border=\"1\" class=\"dataframe\">\n",
              "  <thead>\n",
              "    <tr style=\"text-align: right;\">\n",
              "      <th></th>\n",
              "      <th>Customer ID</th>\n",
              "      <th>Age</th>\n",
              "      <th>Purchase Amount (USD)</th>\n",
              "      <th>Review Rating</th>\n",
              "      <th>Previous Purchases</th>\n",
              "    </tr>\n",
              "  </thead>\n",
              "  <tbody>\n",
              "    <tr>\n",
              "      <th>count</th>\n",
              "      <td>3900.000000</td>\n",
              "      <td>3900.000000</td>\n",
              "      <td>3900.000000</td>\n",
              "      <td>3900.000000</td>\n",
              "      <td>3900.000000</td>\n",
              "    </tr>\n",
              "    <tr>\n",
              "      <th>mean</th>\n",
              "      <td>1950.500000</td>\n",
              "      <td>44.068462</td>\n",
              "      <td>59.764359</td>\n",
              "      <td>3.749949</td>\n",
              "      <td>25.351538</td>\n",
              "    </tr>\n",
              "    <tr>\n",
              "      <th>std</th>\n",
              "      <td>1125.977353</td>\n",
              "      <td>15.207589</td>\n",
              "      <td>23.685392</td>\n",
              "      <td>0.716223</td>\n",
              "      <td>14.447125</td>\n",
              "    </tr>\n",
              "    <tr>\n",
              "      <th>min</th>\n",
              "      <td>1.000000</td>\n",
              "      <td>18.000000</td>\n",
              "      <td>20.000000</td>\n",
              "      <td>2.500000</td>\n",
              "      <td>1.000000</td>\n",
              "    </tr>\n",
              "    <tr>\n",
              "      <th>25%</th>\n",
              "      <td>975.750000</td>\n",
              "      <td>31.000000</td>\n",
              "      <td>39.000000</td>\n",
              "      <td>3.100000</td>\n",
              "      <td>13.000000</td>\n",
              "    </tr>\n",
              "    <tr>\n",
              "      <th>50%</th>\n",
              "      <td>1950.500000</td>\n",
              "      <td>44.000000</td>\n",
              "      <td>60.000000</td>\n",
              "      <td>3.700000</td>\n",
              "      <td>25.000000</td>\n",
              "    </tr>\n",
              "    <tr>\n",
              "      <th>75%</th>\n",
              "      <td>2925.250000</td>\n",
              "      <td>57.000000</td>\n",
              "      <td>81.000000</td>\n",
              "      <td>4.400000</td>\n",
              "      <td>38.000000</td>\n",
              "    </tr>\n",
              "    <tr>\n",
              "      <th>max</th>\n",
              "      <td>3900.000000</td>\n",
              "      <td>70.000000</td>\n",
              "      <td>100.000000</td>\n",
              "      <td>5.000000</td>\n",
              "      <td>50.000000</td>\n",
              "    </tr>\n",
              "  </tbody>\n",
              "</table>\n",
              "</div>\n",
              "    <div class=\"colab-df-buttons\">\n",
              "\n",
              "  <div class=\"colab-df-container\">\n",
              "    <button class=\"colab-df-convert\" onclick=\"convertToInteractive('df-49100c73-33b1-4408-842b-e56d58a0a05a')\"\n",
              "            title=\"Convert this dataframe to an interactive table.\"\n",
              "            style=\"display:none;\">\n",
              "\n",
              "  <svg xmlns=\"http://www.w3.org/2000/svg\" height=\"24px\" viewBox=\"0 -960 960 960\">\n",
              "    <path d=\"M120-120v-720h720v720H120Zm60-500h600v-160H180v160Zm220 220h160v-160H400v160Zm0 220h160v-160H400v160ZM180-400h160v-160H180v160Zm440 0h160v-160H620v160ZM180-180h160v-160H180v160Zm440 0h160v-160H620v160Z\"/>\n",
              "  </svg>\n",
              "    </button>\n",
              "\n",
              "  <style>\n",
              "    .colab-df-container {\n",
              "      display:flex;\n",
              "      gap: 12px;\n",
              "    }\n",
              "\n",
              "    .colab-df-convert {\n",
              "      background-color: #E8F0FE;\n",
              "      border: none;\n",
              "      border-radius: 50%;\n",
              "      cursor: pointer;\n",
              "      display: none;\n",
              "      fill: #1967D2;\n",
              "      height: 32px;\n",
              "      padding: 0 0 0 0;\n",
              "      width: 32px;\n",
              "    }\n",
              "\n",
              "    .colab-df-convert:hover {\n",
              "      background-color: #E2EBFA;\n",
              "      box-shadow: 0px 1px 2px rgba(60, 64, 67, 0.3), 0px 1px 3px 1px rgba(60, 64, 67, 0.15);\n",
              "      fill: #174EA6;\n",
              "    }\n",
              "\n",
              "    .colab-df-buttons div {\n",
              "      margin-bottom: 4px;\n",
              "    }\n",
              "\n",
              "    [theme=dark] .colab-df-convert {\n",
              "      background-color: #3B4455;\n",
              "      fill: #D2E3FC;\n",
              "    }\n",
              "\n",
              "    [theme=dark] .colab-df-convert:hover {\n",
              "      background-color: #434B5C;\n",
              "      box-shadow: 0px 1px 3px 1px rgba(0, 0, 0, 0.15);\n",
              "      filter: drop-shadow(0px 1px 2px rgba(0, 0, 0, 0.3));\n",
              "      fill: #FFFFFF;\n",
              "    }\n",
              "  </style>\n",
              "\n",
              "    <script>\n",
              "      const buttonEl =\n",
              "        document.querySelector('#df-49100c73-33b1-4408-842b-e56d58a0a05a button.colab-df-convert');\n",
              "      buttonEl.style.display =\n",
              "        google.colab.kernel.accessAllowed ? 'block' : 'none';\n",
              "\n",
              "      async function convertToInteractive(key) {\n",
              "        const element = document.querySelector('#df-49100c73-33b1-4408-842b-e56d58a0a05a');\n",
              "        const dataTable =\n",
              "          await google.colab.kernel.invokeFunction('convertToInteractive',\n",
              "                                                    [key], {});\n",
              "        if (!dataTable) return;\n",
              "\n",
              "        const docLinkHtml = 'Like what you see? Visit the ' +\n",
              "          '<a target=\"_blank\" href=https://colab.research.google.com/notebooks/data_table.ipynb>data table notebook</a>'\n",
              "          + ' to learn more about interactive tables.';\n",
              "        element.innerHTML = '';\n",
              "        dataTable['output_type'] = 'display_data';\n",
              "        await google.colab.output.renderOutput(dataTable, element);\n",
              "        const docLink = document.createElement('div');\n",
              "        docLink.innerHTML = docLinkHtml;\n",
              "        element.appendChild(docLink);\n",
              "      }\n",
              "    </script>\n",
              "  </div>\n",
              "\n",
              "\n",
              "<div id=\"df-eb9df540-cd22-4c76-9d0f-0924b5cd8430\">\n",
              "  <button class=\"colab-df-quickchart\" onclick=\"quickchart('df-eb9df540-cd22-4c76-9d0f-0924b5cd8430')\"\n",
              "            title=\"Suggest charts\"\n",
              "            style=\"display:none;\">\n",
              "\n",
              "<svg xmlns=\"http://www.w3.org/2000/svg\" height=\"24px\"viewBox=\"0 0 24 24\"\n",
              "     width=\"24px\">\n",
              "    <g>\n",
              "        <path d=\"M19 3H5c-1.1 0-2 .9-2 2v14c0 1.1.9 2 2 2h14c1.1 0 2-.9 2-2V5c0-1.1-.9-2-2-2zM9 17H7v-7h2v7zm4 0h-2V7h2v10zm4 0h-2v-4h2v4z\"/>\n",
              "    </g>\n",
              "</svg>\n",
              "  </button>\n",
              "\n",
              "<style>\n",
              "  .colab-df-quickchart {\n",
              "      --bg-color: #E8F0FE;\n",
              "      --fill-color: #1967D2;\n",
              "      --hover-bg-color: #E2EBFA;\n",
              "      --hover-fill-color: #174EA6;\n",
              "      --disabled-fill-color: #AAA;\n",
              "      --disabled-bg-color: #DDD;\n",
              "  }\n",
              "\n",
              "  [theme=dark] .colab-df-quickchart {\n",
              "      --bg-color: #3B4455;\n",
              "      --fill-color: #D2E3FC;\n",
              "      --hover-bg-color: #434B5C;\n",
              "      --hover-fill-color: #FFFFFF;\n",
              "      --disabled-bg-color: #3B4455;\n",
              "      --disabled-fill-color: #666;\n",
              "  }\n",
              "\n",
              "  .colab-df-quickchart {\n",
              "    background-color: var(--bg-color);\n",
              "    border: none;\n",
              "    border-radius: 50%;\n",
              "    cursor: pointer;\n",
              "    display: none;\n",
              "    fill: var(--fill-color);\n",
              "    height: 32px;\n",
              "    padding: 0;\n",
              "    width: 32px;\n",
              "  }\n",
              "\n",
              "  .colab-df-quickchart:hover {\n",
              "    background-color: var(--hover-bg-color);\n",
              "    box-shadow: 0 1px 2px rgba(60, 64, 67, 0.3), 0 1px 3px 1px rgba(60, 64, 67, 0.15);\n",
              "    fill: var(--button-hover-fill-color);\n",
              "  }\n",
              "\n",
              "  .colab-df-quickchart-complete:disabled,\n",
              "  .colab-df-quickchart-complete:disabled:hover {\n",
              "    background-color: var(--disabled-bg-color);\n",
              "    fill: var(--disabled-fill-color);\n",
              "    box-shadow: none;\n",
              "  }\n",
              "\n",
              "  .colab-df-spinner {\n",
              "    border: 2px solid var(--fill-color);\n",
              "    border-color: transparent;\n",
              "    border-bottom-color: var(--fill-color);\n",
              "    animation:\n",
              "      spin 1s steps(1) infinite;\n",
              "  }\n",
              "\n",
              "  @keyframes spin {\n",
              "    0% {\n",
              "      border-color: transparent;\n",
              "      border-bottom-color: var(--fill-color);\n",
              "      border-left-color: var(--fill-color);\n",
              "    }\n",
              "    20% {\n",
              "      border-color: transparent;\n",
              "      border-left-color: var(--fill-color);\n",
              "      border-top-color: var(--fill-color);\n",
              "    }\n",
              "    30% {\n",
              "      border-color: transparent;\n",
              "      border-left-color: var(--fill-color);\n",
              "      border-top-color: var(--fill-color);\n",
              "      border-right-color: var(--fill-color);\n",
              "    }\n",
              "    40% {\n",
              "      border-color: transparent;\n",
              "      border-right-color: var(--fill-color);\n",
              "      border-top-color: var(--fill-color);\n",
              "    }\n",
              "    60% {\n",
              "      border-color: transparent;\n",
              "      border-right-color: var(--fill-color);\n",
              "    }\n",
              "    80% {\n",
              "      border-color: transparent;\n",
              "      border-right-color: var(--fill-color);\n",
              "      border-bottom-color: var(--fill-color);\n",
              "    }\n",
              "    90% {\n",
              "      border-color: transparent;\n",
              "      border-bottom-color: var(--fill-color);\n",
              "    }\n",
              "  }\n",
              "</style>\n",
              "\n",
              "  <script>\n",
              "    async function quickchart(key) {\n",
              "      const quickchartButtonEl =\n",
              "        document.querySelector('#' + key + ' button');\n",
              "      quickchartButtonEl.disabled = true;  // To prevent multiple clicks.\n",
              "      quickchartButtonEl.classList.add('colab-df-spinner');\n",
              "      try {\n",
              "        const charts = await google.colab.kernel.invokeFunction(\n",
              "            'suggestCharts', [key], {});\n",
              "      } catch (error) {\n",
              "        console.error('Error during call to suggestCharts:', error);\n",
              "      }\n",
              "      quickchartButtonEl.classList.remove('colab-df-spinner');\n",
              "      quickchartButtonEl.classList.add('colab-df-quickchart-complete');\n",
              "    }\n",
              "    (() => {\n",
              "      let quickchartButtonEl =\n",
              "        document.querySelector('#df-eb9df540-cd22-4c76-9d0f-0924b5cd8430 button');\n",
              "      quickchartButtonEl.style.display =\n",
              "        google.colab.kernel.accessAllowed ? 'block' : 'none';\n",
              "    })();\n",
              "  </script>\n",
              "</div>\n",
              "\n",
              "    </div>\n",
              "  </div>\n"
            ],
            "application/vnd.google.colaboratory.intrinsic+json": {
              "type": "dataframe",
              "summary": "{\n  \"name\": \"df\",\n  \"rows\": 8,\n  \"fields\": [\n    {\n      \"column\": \"Customer ID\",\n      \"properties\": {\n        \"dtype\": \"number\",\n        \"std\": 1405.274081775269,\n        \"min\": 1.0,\n        \"max\": 3900.0,\n        \"num_unique_values\": 6,\n        \"samples\": [\n          3900.0,\n          1950.5,\n          2925.25\n        ],\n        \"semantic_type\": \"\",\n        \"description\": \"\"\n      }\n    },\n    {\n      \"column\": \"Age\",\n      \"properties\": {\n        \"dtype\": \"number\",\n        \"std\": 1364.878318051572,\n        \"min\": 15.20758912716238,\n        \"max\": 3900.0,\n        \"num_unique_values\": 8,\n        \"samples\": [\n          44.06846153846154,\n          44.0,\n          3900.0\n        ],\n        \"semantic_type\": \"\",\n        \"description\": \"\"\n      }\n    },\n    {\n      \"column\": \"Purchase Amount (USD)\",\n      \"properties\": {\n        \"dtype\": \"number\",\n        \"std\": 1359.7647934740537,\n        \"min\": 20.0,\n        \"max\": 3900.0,\n        \"num_unique_values\": 8,\n        \"samples\": [\n          59.76435897435898,\n          60.0,\n          3900.0\n        ],\n        \"semantic_type\": \"\",\n        \"description\": \"\"\n      }\n    },\n    {\n      \"column\": \"Review Rating\",\n      \"properties\": {\n        \"dtype\": \"number\",\n        \"std\": 1377.6887676679473,\n        \"min\": 0.7162228139312449,\n        \"max\": 3900.0,\n        \"num_unique_values\": 8,\n        \"samples\": [\n          3.7499487179487176,\n          3.7,\n          3900.0\n        ],\n        \"semantic_type\": \"\",\n        \"description\": \"\"\n      }\n    },\n    {\n      \"column\": \"Previous Purchases\",\n      \"properties\": {\n        \"dtype\": \"number\",\n        \"std\": 1370.5178374100155,\n        \"min\": 1.0,\n        \"max\": 3900.0,\n        \"num_unique_values\": 8,\n        \"samples\": [\n          25.35153846153846,\n          25.0,\n          3900.0\n        ],\n        \"semantic_type\": \"\",\n        \"description\": \"\"\n      }\n    }\n  ]\n}"
            }
          },
          "metadata": {},
          "execution_count": 250
        }
      ]
    },
    {
      "cell_type": "markdown",
      "source": [
        "## EDA"
      ],
      "metadata": {
        "id": "ZdrzfAxJTBY8"
      }
    },
    {
      "cell_type": "code",
      "source": [
        "# Check missing value\n",
        "\n",
        "df.isnull().sum()"
      ],
      "metadata": {
        "colab": {
          "base_uri": "https://localhost:8080/",
          "height": 680
        },
        "id": "Unb1QGhcPD85",
        "outputId": "1b2e9b23-51ac-4d85-8aad-e34fb90bfb2b"
      },
      "execution_count": null,
      "outputs": [
        {
          "output_type": "execute_result",
          "data": {
            "text/plain": [
              "Customer ID                 0\n",
              "Age                         0\n",
              "Gender                      0\n",
              "Item Purchased              0\n",
              "Category                    0\n",
              "Purchase Amount (USD)       0\n",
              "Location                    0\n",
              "Size                        0\n",
              "Color                       0\n",
              "Season                      0\n",
              "Review Rating               0\n",
              "Subscription Status         0\n",
              "Payment Method              0\n",
              "Shipping Type               0\n",
              "Discount Applied            0\n",
              "Promo Code Used             0\n",
              "Previous Purchases          0\n",
              "Preferred Payment Method    0\n",
              "Frequency of Purchases      0\n",
              "dtype: int64"
            ],
            "text/html": [
              "<div>\n",
              "<style scoped>\n",
              "    .dataframe tbody tr th:only-of-type {\n",
              "        vertical-align: middle;\n",
              "    }\n",
              "\n",
              "    .dataframe tbody tr th {\n",
              "        vertical-align: top;\n",
              "    }\n",
              "\n",
              "    .dataframe thead th {\n",
              "        text-align: right;\n",
              "    }\n",
              "</style>\n",
              "<table border=\"1\" class=\"dataframe\">\n",
              "  <thead>\n",
              "    <tr style=\"text-align: right;\">\n",
              "      <th></th>\n",
              "      <th>0</th>\n",
              "    </tr>\n",
              "  </thead>\n",
              "  <tbody>\n",
              "    <tr>\n",
              "      <th>Customer ID</th>\n",
              "      <td>0</td>\n",
              "    </tr>\n",
              "    <tr>\n",
              "      <th>Age</th>\n",
              "      <td>0</td>\n",
              "    </tr>\n",
              "    <tr>\n",
              "      <th>Gender</th>\n",
              "      <td>0</td>\n",
              "    </tr>\n",
              "    <tr>\n",
              "      <th>Item Purchased</th>\n",
              "      <td>0</td>\n",
              "    </tr>\n",
              "    <tr>\n",
              "      <th>Category</th>\n",
              "      <td>0</td>\n",
              "    </tr>\n",
              "    <tr>\n",
              "      <th>Purchase Amount (USD)</th>\n",
              "      <td>0</td>\n",
              "    </tr>\n",
              "    <tr>\n",
              "      <th>Location</th>\n",
              "      <td>0</td>\n",
              "    </tr>\n",
              "    <tr>\n",
              "      <th>Size</th>\n",
              "      <td>0</td>\n",
              "    </tr>\n",
              "    <tr>\n",
              "      <th>Color</th>\n",
              "      <td>0</td>\n",
              "    </tr>\n",
              "    <tr>\n",
              "      <th>Season</th>\n",
              "      <td>0</td>\n",
              "    </tr>\n",
              "    <tr>\n",
              "      <th>Review Rating</th>\n",
              "      <td>0</td>\n",
              "    </tr>\n",
              "    <tr>\n",
              "      <th>Subscription Status</th>\n",
              "      <td>0</td>\n",
              "    </tr>\n",
              "    <tr>\n",
              "      <th>Payment Method</th>\n",
              "      <td>0</td>\n",
              "    </tr>\n",
              "    <tr>\n",
              "      <th>Shipping Type</th>\n",
              "      <td>0</td>\n",
              "    </tr>\n",
              "    <tr>\n",
              "      <th>Discount Applied</th>\n",
              "      <td>0</td>\n",
              "    </tr>\n",
              "    <tr>\n",
              "      <th>Promo Code Used</th>\n",
              "      <td>0</td>\n",
              "    </tr>\n",
              "    <tr>\n",
              "      <th>Previous Purchases</th>\n",
              "      <td>0</td>\n",
              "    </tr>\n",
              "    <tr>\n",
              "      <th>Preferred Payment Method</th>\n",
              "      <td>0</td>\n",
              "    </tr>\n",
              "    <tr>\n",
              "      <th>Frequency of Purchases</th>\n",
              "      <td>0</td>\n",
              "    </tr>\n",
              "  </tbody>\n",
              "</table>\n",
              "</div><br><label><b>dtype:</b> int64</label>"
            ]
          },
          "metadata": {},
          "execution_count": 251
        }
      ]
    },
    {
      "cell_type": "code",
      "source": [
        "df['Gender'] = df['Gender'].map({'Male': 0, 'Female': 1})\n",
        "df['Gender'] = df['Gender'].astype(object)"
      ],
      "metadata": {
        "id": "XV-r_BCVtwgz"
      },
      "execution_count": null,
      "outputs": []
    },
    {
      "cell_type": "code",
      "source": [
        "#Encode 'Category'\n",
        "label_encoder = LabelEncoder()\n",
        "df['Category_encoded'] = label_encoder.fit_transform(df['Category'])\n",
        "df.drop(columns=['Category'], inplace=True)\n",
        "print(\"Encoding 'Category' completed:\")\n",
        "print(df.head())"
      ],
      "metadata": {
        "colab": {
          "base_uri": "https://localhost:8080/"
        },
        "id": "4Bt5C0INtuL_",
        "outputId": "c110a9c7-8880-4e90-c9d1-58681635a4fc"
      },
      "execution_count": null,
      "outputs": [
        {
          "output_type": "stream",
          "name": "stdout",
          "text": [
            "Encoding 'Category' completed:\n",
            "   Customer ID  Age Gender Item Purchased  Purchase Amount (USD)  \\\n",
            "0            1   55      0         Blouse                     53   \n",
            "1            2   19      0        Sweater                     64   \n",
            "2            3   50      0          Jeans                     73   \n",
            "3            4   21      0        Sandals                     90   \n",
            "4            5   45      0         Blouse                     49   \n",
            "\n",
            "        Location Size      Color  Season  Review Rating Subscription Status  \\\n",
            "0       Kentucky    L       Gray  Winter            3.1                 Yes   \n",
            "1          Maine    L     Maroon  Winter            3.1                 Yes   \n",
            "2  Massachusetts    S     Maroon  Spring            3.1                 Yes   \n",
            "3   Rhode Island    M     Maroon  Spring            3.5                 Yes   \n",
            "4         Oregon    M  Turquoise  Spring            2.7                 Yes   \n",
            "\n",
            "  Payment Method  Shipping Type Discount Applied Promo Code Used  \\\n",
            "0    Credit Card        Express              Yes             Yes   \n",
            "1  Bank Transfer        Express              Yes             Yes   \n",
            "2           Cash  Free Shipping              Yes             Yes   \n",
            "3         PayPal   Next Day Air              Yes             Yes   \n",
            "4           Cash  Free Shipping              Yes             Yes   \n",
            "\n",
            "   Previous Purchases Preferred Payment Method Frequency of Purchases  \\\n",
            "0                  14                    Venmo            Fortnightly   \n",
            "1                   2                     Cash            Fortnightly   \n",
            "2                  23              Credit Card                 Weekly   \n",
            "3                  49                   PayPal                 Weekly   \n",
            "4                  31                   PayPal               Annually   \n",
            "\n",
            "   Category_encoded  \n",
            "0                 1  \n",
            "1                 1  \n",
            "2                 1  \n",
            "3                 2  \n",
            "4                 1  \n"
          ]
        }
      ]
    },
    {
      "cell_type": "markdown",
      "source": [
        "Interprestasi Encoding Gender\n",
        "Kolom Gender dikodekan menjadi numerik:\n",
        "\n",
        "0: Female\n",
        "\n",
        "1: Male\n",
        "\n",
        "Ini mempermudah pengolahan data dalam analisis statistik."
      ],
      "metadata": {
        "id": "VAAofcZsw6-t"
      }
    },
    {
      "cell_type": "code",
      "source": [
        "# Encode 'Item Purchased'\n",
        "df['item'] = label_encoder.fit_transform(df['Item Purchased'])\n",
        "df.drop(columns=['Item Purchased'], inplace=True)\n",
        "print(\"Encoding 'Item Purchased' completed:\")\n",
        "print(df.head())"
      ],
      "metadata": {
        "colab": {
          "base_uri": "https://localhost:8080/"
        },
        "id": "UszDW4KjtyOb",
        "outputId": "851b241f-982f-415a-f969-9e9fb1565503"
      },
      "execution_count": null,
      "outputs": [
        {
          "output_type": "stream",
          "name": "stdout",
          "text": [
            "Encoding 'Item Purchased' completed:\n",
            "   Customer ID  Age Gender  Purchase Amount (USD)       Location Size  \\\n",
            "0            1   55      0                     53       Kentucky    L   \n",
            "1            2   19      0                     64          Maine    L   \n",
            "2            3   50      0                     73  Massachusetts    S   \n",
            "3            4   21      0                     90   Rhode Island    M   \n",
            "4            5   45      0                     49         Oregon    M   \n",
            "\n",
            "       Color  Season  Review Rating Subscription Status Payment Method  \\\n",
            "0       Gray  Winter            3.1                 Yes    Credit Card   \n",
            "1     Maroon  Winter            3.1                 Yes  Bank Transfer   \n",
            "2     Maroon  Spring            3.1                 Yes           Cash   \n",
            "3     Maroon  Spring            3.5                 Yes         PayPal   \n",
            "4  Turquoise  Spring            2.7                 Yes           Cash   \n",
            "\n",
            "   Shipping Type Discount Applied Promo Code Used  Previous Purchases  \\\n",
            "0        Express              Yes             Yes                  14   \n",
            "1        Express              Yes             Yes                   2   \n",
            "2  Free Shipping              Yes             Yes                  23   \n",
            "3   Next Day Air              Yes             Yes                  49   \n",
            "4  Free Shipping              Yes             Yes                  31   \n",
            "\n",
            "  Preferred Payment Method Frequency of Purchases  Category_encoded  item  \n",
            "0                    Venmo            Fortnightly                 1     2  \n",
            "1                     Cash            Fortnightly                 1    23  \n",
            "2              Credit Card                 Weekly                 1    11  \n",
            "3                   PayPal                 Weekly                 2    14  \n",
            "4                   PayPal               Annually                 1     2  \n"
          ]
        }
      ]
    },
    {
      "cell_type": "markdown",
      "source": [
        "Interprestasi Encoding Item Purchased:\n",
        "\n",
        "Telah di-encode menjadi kolom item. Nilai numeriknya tampaknya menggambarkan kategori dari barang yang dibeli"
      ],
      "metadata": {
        "id": "qE5nxKn3xLOC"
      }
    },
    {
      "cell_type": "code",
      "source": [
        "#Encode 'Subscription Status'\n",
        "df['subscription_status_encoded'] = label_encoder.fit_transform(df['Subscription Status'])\n",
        "df.drop(columns=['Subscription Status'], inplace=True)\n",
        "print(\"Encoding 'Subscription Status' completed:\")\n",
        "print(df.head())"
      ],
      "metadata": {
        "colab": {
          "base_uri": "https://localhost:8080/"
        },
        "id": "KM4gxIMqt2-L",
        "outputId": "bae3c35e-cd09-4bd3-c61e-1097fd58df01"
      },
      "execution_count": null,
      "outputs": [
        {
          "output_type": "stream",
          "name": "stdout",
          "text": [
            "Encoding 'Subscription Status' completed:\n",
            "   Customer ID  Age Gender  Purchase Amount (USD)       Location Size  \\\n",
            "0            1   55      0                     53       Kentucky    L   \n",
            "1            2   19      0                     64          Maine    L   \n",
            "2            3   50      0                     73  Massachusetts    S   \n",
            "3            4   21      0                     90   Rhode Island    M   \n",
            "4            5   45      0                     49         Oregon    M   \n",
            "\n",
            "       Color  Season  Review Rating Payment Method  Shipping Type  \\\n",
            "0       Gray  Winter            3.1    Credit Card        Express   \n",
            "1     Maroon  Winter            3.1  Bank Transfer        Express   \n",
            "2     Maroon  Spring            3.1           Cash  Free Shipping   \n",
            "3     Maroon  Spring            3.5         PayPal   Next Day Air   \n",
            "4  Turquoise  Spring            2.7           Cash  Free Shipping   \n",
            "\n",
            "  Discount Applied Promo Code Used  Previous Purchases  \\\n",
            "0              Yes             Yes                  14   \n",
            "1              Yes             Yes                   2   \n",
            "2              Yes             Yes                  23   \n",
            "3              Yes             Yes                  49   \n",
            "4              Yes             Yes                  31   \n",
            "\n",
            "  Preferred Payment Method Frequency of Purchases  Category_encoded  item  \\\n",
            "0                    Venmo            Fortnightly                 1     2   \n",
            "1                     Cash            Fortnightly                 1    23   \n",
            "2              Credit Card                 Weekly                 1    11   \n",
            "3                   PayPal                 Weekly                 2    14   \n",
            "4                   PayPal               Annually                 1     2   \n",
            "\n",
            "   subscription_status_encoded  \n",
            "0                            1  \n",
            "1                            1  \n",
            "2                            1  \n",
            "3                            1  \n",
            "4                            1  \n"
          ]
        }
      ]
    },
    {
      "cell_type": "markdown",
      "source": [
        "Interprestasi Encoding Subscription Status:\n",
        "\n",
        "Setelah encoding, kolom ini dihapus, dan diganti menjadi subscription_status_encoded. Nilai 0 atau 1 menunjukkan status langganan pengguna."
      ],
      "metadata": {
        "id": "E1C5rPifxdAv"
      }
    },
    {
      "cell_type": "code",
      "source": [
        "# Encode 'Payment Method'\n",
        "df['payment_method_encoded'] = label_encoder.fit_transform(df['Payment Method'])\n",
        "df.drop(columns=['Payment Method'], inplace=True)\n",
        "print(\"Encoding 'Payment Method' completed:\")\n",
        "print(df.head())"
      ],
      "metadata": {
        "colab": {
          "base_uri": "https://localhost:8080/"
        },
        "id": "Zjg3M1Glt4EZ",
        "outputId": "52b6706e-a616-469a-e3d1-d68d55c9ff9d"
      },
      "execution_count": null,
      "outputs": [
        {
          "output_type": "stream",
          "name": "stdout",
          "text": [
            "Encoding 'Payment Method' completed:\n",
            "   Customer ID  Age Gender  Purchase Amount (USD)       Location Size  \\\n",
            "0            1   55      0                     53       Kentucky    L   \n",
            "1            2   19      0                     64          Maine    L   \n",
            "2            3   50      0                     73  Massachusetts    S   \n",
            "3            4   21      0                     90   Rhode Island    M   \n",
            "4            5   45      0                     49         Oregon    M   \n",
            "\n",
            "       Color  Season  Review Rating  Shipping Type Discount Applied  \\\n",
            "0       Gray  Winter            3.1        Express              Yes   \n",
            "1     Maroon  Winter            3.1        Express              Yes   \n",
            "2     Maroon  Spring            3.1  Free Shipping              Yes   \n",
            "3     Maroon  Spring            3.5   Next Day Air              Yes   \n",
            "4  Turquoise  Spring            2.7  Free Shipping              Yes   \n",
            "\n",
            "  Promo Code Used  Previous Purchases Preferred Payment Method  \\\n",
            "0             Yes                  14                    Venmo   \n",
            "1             Yes                   2                     Cash   \n",
            "2             Yes                  23              Credit Card   \n",
            "3             Yes                  49                   PayPal   \n",
            "4             Yes                  31                   PayPal   \n",
            "\n",
            "  Frequency of Purchases  Category_encoded  item  subscription_status_encoded  \\\n",
            "0            Fortnightly                 1     2                            1   \n",
            "1            Fortnightly                 1    23                            1   \n",
            "2                 Weekly                 1    11                            1   \n",
            "3                 Weekly                 2    14                            1   \n",
            "4               Annually                 1     2                            1   \n",
            "\n",
            "   payment_method_encoded  \n",
            "0                       2  \n",
            "1                       0  \n",
            "2                       1  \n",
            "3                       4  \n",
            "4                       1  \n"
          ]
        }
      ]
    },
    {
      "cell_type": "markdown",
      "source": [
        "Interprestasi Encoding Payment Method:\n",
        "\n",
        "Diubah menjadi kolom payment_method_encoded dengan nilai numerik yang mewakili metode pembayaran."
      ],
      "metadata": {
        "id": "5wXwPZvaxjOn"
      }
    },
    {
      "cell_type": "code",
      "source": [
        "#Distribution of categorical variables\n",
        "print(\"Distribusi variabel kategorikal:\")\n",
        "cat_cols = df.select_dtypes(include=['object']).columns\n",
        "for col in cat_cols:\n",
        "    print(f\"Kolom: {col}\")\n",
        "    print(df[col].value_counts())\n",
        "    print()"
      ],
      "metadata": {
        "colab": {
          "base_uri": "https://localhost:8080/"
        },
        "id": "WworhLTst7kf",
        "outputId": "edb2fe2c-6fb7-4bab-e28c-ebffe053c363"
      },
      "execution_count": null,
      "outputs": [
        {
          "output_type": "stream",
          "name": "stdout",
          "text": [
            "Distribusi variabel kategorikal:\n",
            "Kolom: Gender\n",
            "Gender\n",
            "0    2652\n",
            "1    1248\n",
            "Name: count, dtype: int64\n",
            "\n",
            "Kolom: Location\n",
            "Location\n",
            "Montana           96\n",
            "California        95\n",
            "Idaho             93\n",
            "Illinois          92\n",
            "Alabama           89\n",
            "Minnesota         88\n",
            "Nebraska          87\n",
            "New York          87\n",
            "Nevada            87\n",
            "Maryland          86\n",
            "Delaware          86\n",
            "Vermont           85\n",
            "Louisiana         84\n",
            "North Dakota      83\n",
            "Missouri          81\n",
            "West Virginia     81\n",
            "New Mexico        81\n",
            "Mississippi       80\n",
            "Indiana           79\n",
            "Georgia           79\n",
            "Kentucky          79\n",
            "Arkansas          79\n",
            "North Carolina    78\n",
            "Connecticut       78\n",
            "Virginia          77\n",
            "Ohio              77\n",
            "Tennessee         77\n",
            "Texas             77\n",
            "Maine             77\n",
            "South Carolina    76\n",
            "Colorado          75\n",
            "Oklahoma          75\n",
            "Wisconsin         75\n",
            "Oregon            74\n",
            "Pennsylvania      74\n",
            "Washington        73\n",
            "Michigan          73\n",
            "Alaska            72\n",
            "Massachusetts     72\n",
            "Wyoming           71\n",
            "Utah              71\n",
            "New Hampshire     71\n",
            "South Dakota      70\n",
            "Iowa              69\n",
            "Florida           68\n",
            "New Jersey        67\n",
            "Hawaii            65\n",
            "Arizona           65\n",
            "Kansas            63\n",
            "Rhode Island      63\n",
            "Name: count, dtype: int64\n",
            "\n",
            "Kolom: Size\n",
            "Size\n",
            "M     1755\n",
            "L     1053\n",
            "S      663\n",
            "XL     429\n",
            "Name: count, dtype: int64\n",
            "\n",
            "Kolom: Color\n",
            "Color\n",
            "Olive        177\n",
            "Yellow       174\n",
            "Silver       173\n",
            "Teal         172\n",
            "Green        169\n",
            "Black        167\n",
            "Cyan         166\n",
            "Violet       166\n",
            "Gray         159\n",
            "Maroon       158\n",
            "Orange       154\n",
            "Charcoal     153\n",
            "Pink         153\n",
            "Magenta      152\n",
            "Blue         152\n",
            "Purple       151\n",
            "Peach        149\n",
            "Red          148\n",
            "Beige        147\n",
            "Indigo       147\n",
            "Lavender     147\n",
            "Turquoise    145\n",
            "White        142\n",
            "Brown        141\n",
            "Gold         138\n",
            "Name: count, dtype: int64\n",
            "\n",
            "Kolom: Season\n",
            "Season\n",
            "Spring    999\n",
            "Fall      975\n",
            "Winter    971\n",
            "Summer    955\n",
            "Name: count, dtype: int64\n",
            "\n",
            "Kolom: Shipping Type\n",
            "Shipping Type\n",
            "Free Shipping     675\n",
            "Standard          654\n",
            "Store Pickup      650\n",
            "Next Day Air      648\n",
            "Express           646\n",
            "2-Day Shipping    627\n",
            "Name: count, dtype: int64\n",
            "\n",
            "Kolom: Discount Applied\n",
            "Discount Applied\n",
            "No     2223\n",
            "Yes    1677\n",
            "Name: count, dtype: int64\n",
            "\n",
            "Kolom: Promo Code Used\n",
            "Promo Code Used\n",
            "No     2223\n",
            "Yes    1677\n",
            "Name: count, dtype: int64\n",
            "\n",
            "Kolom: Preferred Payment Method\n",
            "Preferred Payment Method\n",
            "PayPal           677\n",
            "Credit Card      671\n",
            "Cash             670\n",
            "Debit Card       636\n",
            "Venmo            634\n",
            "Bank Transfer    612\n",
            "Name: count, dtype: int64\n",
            "\n",
            "Kolom: Frequency of Purchases\n",
            "Frequency of Purchases\n",
            "Every 3 Months    584\n",
            "Annually          572\n",
            "Quarterly         563\n",
            "Monthly           553\n",
            "Bi-Weekly         547\n",
            "Fortnightly       542\n",
            "Weekly            539\n",
            "Name: count, dtype: int64\n",
            "\n"
          ]
        }
      ]
    },
    {
      "cell_type": "markdown",
      "source": [
        "Interprestasi Distribusi Variabel Kategorikal :\n",
        "\n",
        "- Gender: Mayoritas pengguna adalah gender dengan nilai 0 (laki-laki).\n",
        "\n",
        "- Location: Sebaran lokasi cukup merata, tetapi tidak ada kota yang sangat dominan. Lokasi dengan jumlah pengguna tertinggi adalah Montana (96 pengguna).\n",
        "\n",
        "- Size: Ukuran yang paling umum adalah M (medium), sementara ukuran XL paling jarang.\n",
        "\n",
        "- Color: Warna produk memiliki distribusi yang cukup seimbang, dengan Olive paling banyak digunakan (177).\n",
        "\n",
        "- Season: Musim dengan transaksi tertinggi adalah Spring (999 transaksi).\n",
        "\n",
        "- Shipping Type: Metode pengiriman \"Free Shipping\" adalah yang paling populer (675).\n",
        "\n",
        "- Discount Applied dan Promo Code Used: Kedua kolom memiliki pola yang sama, dengan lebih banyak transaksi tanpa diskon atau kode promo.\n",
        "\n",
        "Preferred Payment Method: PayPal sedikit lebih populer dibanding metode lain (677), tetapi distribusinya hampir merata di antara metode lainnya.\n",
        "\n",
        "Frequency of Purchases: Sebaran frekuensi pembelian cukup berimbang, dengan kategori Every 3 Months sebagai yang paling umum (584)."
      ],
      "metadata": {
        "id": "iKuijZg_xzmc"
      }
    },
    {
      "cell_type": "code",
      "source": [
        "# Distribution of numerical variables\n",
        "print(\"Distribusi variabel numerik:\")\n",
        "num_cols = df.select_dtypes(include=['int64', 'float64']).columns\n",
        "for col in num_cols:\n",
        "    print(f\"Kolom: {col}\")\n",
        "    print(df[col].describe())\n",
        "    print()"
      ],
      "metadata": {
        "colab": {
          "base_uri": "https://localhost:8080/"
        },
        "id": "8NoquQOtuDjR",
        "outputId": "48926a2b-22d7-479f-c5cb-62358eba37bc"
      },
      "execution_count": null,
      "outputs": [
        {
          "output_type": "stream",
          "name": "stdout",
          "text": [
            "Distribusi variabel numerik:\n",
            "Kolom: Customer ID\n",
            "count    3900.000000\n",
            "mean     1950.500000\n",
            "std      1125.977353\n",
            "min         1.000000\n",
            "25%       975.750000\n",
            "50%      1950.500000\n",
            "75%      2925.250000\n",
            "max      3900.000000\n",
            "Name: Customer ID, dtype: float64\n",
            "\n",
            "Kolom: Age\n",
            "count    3900.000000\n",
            "mean       44.068462\n",
            "std        15.207589\n",
            "min        18.000000\n",
            "25%        31.000000\n",
            "50%        44.000000\n",
            "75%        57.000000\n",
            "max        70.000000\n",
            "Name: Age, dtype: float64\n",
            "\n",
            "Kolom: Purchase Amount (USD)\n",
            "count    3900.000000\n",
            "mean       59.764359\n",
            "std        23.685392\n",
            "min        20.000000\n",
            "25%        39.000000\n",
            "50%        60.000000\n",
            "75%        81.000000\n",
            "max       100.000000\n",
            "Name: Purchase Amount (USD), dtype: float64\n",
            "\n",
            "Kolom: Review Rating\n",
            "count    3900.000000\n",
            "mean        3.749949\n",
            "std         0.716223\n",
            "min         2.500000\n",
            "25%         3.100000\n",
            "50%         3.700000\n",
            "75%         4.400000\n",
            "max         5.000000\n",
            "Name: Review Rating, dtype: float64\n",
            "\n",
            "Kolom: Previous Purchases\n",
            "count    3900.000000\n",
            "mean       25.351538\n",
            "std        14.447125\n",
            "min         1.000000\n",
            "25%        13.000000\n",
            "50%        25.000000\n",
            "75%        38.000000\n",
            "max        50.000000\n",
            "Name: Previous Purchases, dtype: float64\n",
            "\n",
            "Kolom: Category_encoded\n",
            "count    3900.000000\n",
            "mean        1.001795\n",
            "std         0.896688\n",
            "min         0.000000\n",
            "25%         0.000000\n",
            "50%         1.000000\n",
            "75%         1.000000\n",
            "max         3.000000\n",
            "Name: Category_encoded, dtype: float64\n",
            "\n",
            "Kolom: item\n",
            "count    3900.000000\n",
            "mean       12.035385\n",
            "std         7.199162\n",
            "min         0.000000\n",
            "25%         6.000000\n",
            "50%        12.000000\n",
            "75%        18.000000\n",
            "max        24.000000\n",
            "Name: item, dtype: float64\n",
            "\n",
            "Kolom: subscription_status_encoded\n",
            "count    3900.000000\n",
            "mean        0.270000\n",
            "std         0.444016\n",
            "min         0.000000\n",
            "25%         0.000000\n",
            "50%         0.000000\n",
            "75%         1.000000\n",
            "max         1.000000\n",
            "Name: subscription_status_encoded, dtype: float64\n",
            "\n",
            "Kolom: payment_method_encoded\n",
            "count    3900.000000\n",
            "mean        2.501538\n",
            "std         1.699161\n",
            "min         0.000000\n",
            "25%         1.000000\n",
            "50%         2.000000\n",
            "75%         4.000000\n",
            "max         5.000000\n",
            "Name: payment_method_encoded, dtype: float64\n",
            "\n"
          ]
        }
      ]
    },
    {
      "cell_type": "markdown",
      "source": [
        "Interprestasi Distribusi Variabel Numerik:\n",
        "\n",
        "- Customer ID: Merupakan nomor identifikasi dengan distribusi seragam.\n",
        "\n",
        "- Age: Usia rata-rata pelanggan adalah 44 tahun, dengan rentang antara 18-70 tahun.\n",
        "\n",
        "- Purchase Amount (USD): Nilai rata-rata pembelian adalah $59,76  dengan standar deviasi $23,68. Pembelian terkecil adalah $20, dan pembelian tertinggi adalah $100.\n",
        "\n",
        "- Review Rating: Rata-rata ulasan adalah 3,75 dengan mayoritas di kisaran 3-4.\n",
        "\n",
        "- Previous Purchases: Rata-rata pelanggan telah melakukan 25 pembelian sebelumnya.\n",
        "\n",
        "- Category_encoded: Sebagian besar berada di kategori 1, menunjukkan konsistensi kategori yang sering dibeli.\n",
        "\n",
        "- item: Nilai berkisar antara 0 hingga 24, dengan rata-rata sekitar 12.\n",
        "\n",
        "subscription_status_encoded: Sebagian besar pelanggan tidak berlangganan (rata-rata mendekati 0,27).\n",
        "\n",
        "payment_method_encoded: Metode pembayaran memiliki nilai rata-rata 2,5."
      ],
      "metadata": {
        "id": "kpfEtQK0yrMb"
      }
    },
    {
      "cell_type": "code",
      "source": [
        "# Identify numerical variables\n",
        "numerical = [var for var in df.columns if df[var].dtype != 'O']\n",
        "print(\"Variabel numerik ditemukan:\")\n",
        "print(f\"Ada {len(numerical)} variabel numerik.\")\n",
        "print(\"Variabel numerik adalah:\", numerical)"
      ],
      "metadata": {
        "colab": {
          "base_uri": "https://localhost:8080/"
        },
        "id": "iL_FoXztuJ1f",
        "outputId": "e5714ce6-c522-4b39-87d6-eb26302c23cf"
      },
      "execution_count": null,
      "outputs": [
        {
          "output_type": "stream",
          "name": "stdout",
          "text": [
            "\n",
            "7. Variabel numerik ditemukan:\n",
            "Ada 9 variabel numerik.\n",
            "Variabel numerik adalah: ['Customer ID', 'Age', 'Purchase Amount (USD)', 'Review Rating', 'Previous Purchases', 'Category_encoded', 'item', 'subscription_status_encoded', 'payment_method_encoded']\n"
          ]
        }
      ]
    },
    {
      "cell_type": "code",
      "source": [
        "df[numerical].head()"
      ],
      "metadata": {
        "colab": {
          "base_uri": "https://localhost:8080/",
          "height": 261
        },
        "id": "4sy2-GAYuNMk",
        "outputId": "3d949501-8282-4d21-8dec-c5e7ea5e5631"
      },
      "execution_count": null,
      "outputs": [
        {
          "output_type": "execute_result",
          "data": {
            "text/plain": [
              "   Customer ID  Age  Purchase Amount (USD)  Review Rating  Previous Purchases  \\\n",
              "0            1   55                     53            3.1                  14   \n",
              "1            2   19                     64            3.1                   2   \n",
              "2            3   50                     73            3.1                  23   \n",
              "3            4   21                     90            3.5                  49   \n",
              "4            5   45                     49            2.7                  31   \n",
              "\n",
              "   Category_encoded  item  subscription_status_encoded  payment_method_encoded  \n",
              "0                 1     2                            1                       2  \n",
              "1                 1    23                            1                       0  \n",
              "2                 1    11                            1                       1  \n",
              "3                 2    14                            1                       4  \n",
              "4                 1     2                            1                       1  "
            ],
            "text/html": [
              "\n",
              "  <div id=\"df-59a7f164-59e1-4c52-870f-8d5aea4f499f\" class=\"colab-df-container\">\n",
              "    <div>\n",
              "<style scoped>\n",
              "    .dataframe tbody tr th:only-of-type {\n",
              "        vertical-align: middle;\n",
              "    }\n",
              "\n",
              "    .dataframe tbody tr th {\n",
              "        vertical-align: top;\n",
              "    }\n",
              "\n",
              "    .dataframe thead th {\n",
              "        text-align: right;\n",
              "    }\n",
              "</style>\n",
              "<table border=\"1\" class=\"dataframe\">\n",
              "  <thead>\n",
              "    <tr style=\"text-align: right;\">\n",
              "      <th></th>\n",
              "      <th>Customer ID</th>\n",
              "      <th>Age</th>\n",
              "      <th>Purchase Amount (USD)</th>\n",
              "      <th>Review Rating</th>\n",
              "      <th>Previous Purchases</th>\n",
              "      <th>Category_encoded</th>\n",
              "      <th>item</th>\n",
              "      <th>subscription_status_encoded</th>\n",
              "      <th>payment_method_encoded</th>\n",
              "    </tr>\n",
              "  </thead>\n",
              "  <tbody>\n",
              "    <tr>\n",
              "      <th>0</th>\n",
              "      <td>1</td>\n",
              "      <td>55</td>\n",
              "      <td>53</td>\n",
              "      <td>3.1</td>\n",
              "      <td>14</td>\n",
              "      <td>1</td>\n",
              "      <td>2</td>\n",
              "      <td>1</td>\n",
              "      <td>2</td>\n",
              "    </tr>\n",
              "    <tr>\n",
              "      <th>1</th>\n",
              "      <td>2</td>\n",
              "      <td>19</td>\n",
              "      <td>64</td>\n",
              "      <td>3.1</td>\n",
              "      <td>2</td>\n",
              "      <td>1</td>\n",
              "      <td>23</td>\n",
              "      <td>1</td>\n",
              "      <td>0</td>\n",
              "    </tr>\n",
              "    <tr>\n",
              "      <th>2</th>\n",
              "      <td>3</td>\n",
              "      <td>50</td>\n",
              "      <td>73</td>\n",
              "      <td>3.1</td>\n",
              "      <td>23</td>\n",
              "      <td>1</td>\n",
              "      <td>11</td>\n",
              "      <td>1</td>\n",
              "      <td>1</td>\n",
              "    </tr>\n",
              "    <tr>\n",
              "      <th>3</th>\n",
              "      <td>4</td>\n",
              "      <td>21</td>\n",
              "      <td>90</td>\n",
              "      <td>3.5</td>\n",
              "      <td>49</td>\n",
              "      <td>2</td>\n",
              "      <td>14</td>\n",
              "      <td>1</td>\n",
              "      <td>4</td>\n",
              "    </tr>\n",
              "    <tr>\n",
              "      <th>4</th>\n",
              "      <td>5</td>\n",
              "      <td>45</td>\n",
              "      <td>49</td>\n",
              "      <td>2.7</td>\n",
              "      <td>31</td>\n",
              "      <td>1</td>\n",
              "      <td>2</td>\n",
              "      <td>1</td>\n",
              "      <td>1</td>\n",
              "    </tr>\n",
              "  </tbody>\n",
              "</table>\n",
              "</div>\n",
              "    <div class=\"colab-df-buttons\">\n",
              "\n",
              "  <div class=\"colab-df-container\">\n",
              "    <button class=\"colab-df-convert\" onclick=\"convertToInteractive('df-59a7f164-59e1-4c52-870f-8d5aea4f499f')\"\n",
              "            title=\"Convert this dataframe to an interactive table.\"\n",
              "            style=\"display:none;\">\n",
              "\n",
              "  <svg xmlns=\"http://www.w3.org/2000/svg\" height=\"24px\" viewBox=\"0 -960 960 960\">\n",
              "    <path d=\"M120-120v-720h720v720H120Zm60-500h600v-160H180v160Zm220 220h160v-160H400v160Zm0 220h160v-160H400v160ZM180-400h160v-160H180v160Zm440 0h160v-160H620v160ZM180-180h160v-160H180v160Zm440 0h160v-160H620v160Z\"/>\n",
              "  </svg>\n",
              "    </button>\n",
              "\n",
              "  <style>\n",
              "    .colab-df-container {\n",
              "      display:flex;\n",
              "      gap: 12px;\n",
              "    }\n",
              "\n",
              "    .colab-df-convert {\n",
              "      background-color: #E8F0FE;\n",
              "      border: none;\n",
              "      border-radius: 50%;\n",
              "      cursor: pointer;\n",
              "      display: none;\n",
              "      fill: #1967D2;\n",
              "      height: 32px;\n",
              "      padding: 0 0 0 0;\n",
              "      width: 32px;\n",
              "    }\n",
              "\n",
              "    .colab-df-convert:hover {\n",
              "      background-color: #E2EBFA;\n",
              "      box-shadow: 0px 1px 2px rgba(60, 64, 67, 0.3), 0px 1px 3px 1px rgba(60, 64, 67, 0.15);\n",
              "      fill: #174EA6;\n",
              "    }\n",
              "\n",
              "    .colab-df-buttons div {\n",
              "      margin-bottom: 4px;\n",
              "    }\n",
              "\n",
              "    [theme=dark] .colab-df-convert {\n",
              "      background-color: #3B4455;\n",
              "      fill: #D2E3FC;\n",
              "    }\n",
              "\n",
              "    [theme=dark] .colab-df-convert:hover {\n",
              "      background-color: #434B5C;\n",
              "      box-shadow: 0px 1px 3px 1px rgba(0, 0, 0, 0.15);\n",
              "      filter: drop-shadow(0px 1px 2px rgba(0, 0, 0, 0.3));\n",
              "      fill: #FFFFFF;\n",
              "    }\n",
              "  </style>\n",
              "\n",
              "    <script>\n",
              "      const buttonEl =\n",
              "        document.querySelector('#df-59a7f164-59e1-4c52-870f-8d5aea4f499f button.colab-df-convert');\n",
              "      buttonEl.style.display =\n",
              "        google.colab.kernel.accessAllowed ? 'block' : 'none';\n",
              "\n",
              "      async function convertToInteractive(key) {\n",
              "        const element = document.querySelector('#df-59a7f164-59e1-4c52-870f-8d5aea4f499f');\n",
              "        const dataTable =\n",
              "          await google.colab.kernel.invokeFunction('convertToInteractive',\n",
              "                                                    [key], {});\n",
              "        if (!dataTable) return;\n",
              "\n",
              "        const docLinkHtml = 'Like what you see? Visit the ' +\n",
              "          '<a target=\"_blank\" href=https://colab.research.google.com/notebooks/data_table.ipynb>data table notebook</a>'\n",
              "          + ' to learn more about interactive tables.';\n",
              "        element.innerHTML = '';\n",
              "        dataTable['output_type'] = 'display_data';\n",
              "        await google.colab.output.renderOutput(dataTable, element);\n",
              "        const docLink = document.createElement('div');\n",
              "        docLink.innerHTML = docLinkHtml;\n",
              "        element.appendChild(docLink);\n",
              "      }\n",
              "    </script>\n",
              "  </div>\n",
              "\n",
              "\n",
              "<div id=\"df-8a637e33-7671-4803-9e3d-6d62b03ade76\">\n",
              "  <button class=\"colab-df-quickchart\" onclick=\"quickchart('df-8a637e33-7671-4803-9e3d-6d62b03ade76')\"\n",
              "            title=\"Suggest charts\"\n",
              "            style=\"display:none;\">\n",
              "\n",
              "<svg xmlns=\"http://www.w3.org/2000/svg\" height=\"24px\"viewBox=\"0 0 24 24\"\n",
              "     width=\"24px\">\n",
              "    <g>\n",
              "        <path d=\"M19 3H5c-1.1 0-2 .9-2 2v14c0 1.1.9 2 2 2h14c1.1 0 2-.9 2-2V5c0-1.1-.9-2-2-2zM9 17H7v-7h2v7zm4 0h-2V7h2v10zm4 0h-2v-4h2v4z\"/>\n",
              "    </g>\n",
              "</svg>\n",
              "  </button>\n",
              "\n",
              "<style>\n",
              "  .colab-df-quickchart {\n",
              "      --bg-color: #E8F0FE;\n",
              "      --fill-color: #1967D2;\n",
              "      --hover-bg-color: #E2EBFA;\n",
              "      --hover-fill-color: #174EA6;\n",
              "      --disabled-fill-color: #AAA;\n",
              "      --disabled-bg-color: #DDD;\n",
              "  }\n",
              "\n",
              "  [theme=dark] .colab-df-quickchart {\n",
              "      --bg-color: #3B4455;\n",
              "      --fill-color: #D2E3FC;\n",
              "      --hover-bg-color: #434B5C;\n",
              "      --hover-fill-color: #FFFFFF;\n",
              "      --disabled-bg-color: #3B4455;\n",
              "      --disabled-fill-color: #666;\n",
              "  }\n",
              "\n",
              "  .colab-df-quickchart {\n",
              "    background-color: var(--bg-color);\n",
              "    border: none;\n",
              "    border-radius: 50%;\n",
              "    cursor: pointer;\n",
              "    display: none;\n",
              "    fill: var(--fill-color);\n",
              "    height: 32px;\n",
              "    padding: 0;\n",
              "    width: 32px;\n",
              "  }\n",
              "\n",
              "  .colab-df-quickchart:hover {\n",
              "    background-color: var(--hover-bg-color);\n",
              "    box-shadow: 0 1px 2px rgba(60, 64, 67, 0.3), 0 1px 3px 1px rgba(60, 64, 67, 0.15);\n",
              "    fill: var(--button-hover-fill-color);\n",
              "  }\n",
              "\n",
              "  .colab-df-quickchart-complete:disabled,\n",
              "  .colab-df-quickchart-complete:disabled:hover {\n",
              "    background-color: var(--disabled-bg-color);\n",
              "    fill: var(--disabled-fill-color);\n",
              "    box-shadow: none;\n",
              "  }\n",
              "\n",
              "  .colab-df-spinner {\n",
              "    border: 2px solid var(--fill-color);\n",
              "    border-color: transparent;\n",
              "    border-bottom-color: var(--fill-color);\n",
              "    animation:\n",
              "      spin 1s steps(1) infinite;\n",
              "  }\n",
              "\n",
              "  @keyframes spin {\n",
              "    0% {\n",
              "      border-color: transparent;\n",
              "      border-bottom-color: var(--fill-color);\n",
              "      border-left-color: var(--fill-color);\n",
              "    }\n",
              "    20% {\n",
              "      border-color: transparent;\n",
              "      border-left-color: var(--fill-color);\n",
              "      border-top-color: var(--fill-color);\n",
              "    }\n",
              "    30% {\n",
              "      border-color: transparent;\n",
              "      border-left-color: var(--fill-color);\n",
              "      border-top-color: var(--fill-color);\n",
              "      border-right-color: var(--fill-color);\n",
              "    }\n",
              "    40% {\n",
              "      border-color: transparent;\n",
              "      border-right-color: var(--fill-color);\n",
              "      border-top-color: var(--fill-color);\n",
              "    }\n",
              "    60% {\n",
              "      border-color: transparent;\n",
              "      border-right-color: var(--fill-color);\n",
              "    }\n",
              "    80% {\n",
              "      border-color: transparent;\n",
              "      border-right-color: var(--fill-color);\n",
              "      border-bottom-color: var(--fill-color);\n",
              "    }\n",
              "    90% {\n",
              "      border-color: transparent;\n",
              "      border-bottom-color: var(--fill-color);\n",
              "    }\n",
              "  }\n",
              "</style>\n",
              "\n",
              "  <script>\n",
              "    async function quickchart(key) {\n",
              "      const quickchartButtonEl =\n",
              "        document.querySelector('#' + key + ' button');\n",
              "      quickchartButtonEl.disabled = true;  // To prevent multiple clicks.\n",
              "      quickchartButtonEl.classList.add('colab-df-spinner');\n",
              "      try {\n",
              "        const charts = await google.colab.kernel.invokeFunction(\n",
              "            'suggestCharts', [key], {});\n",
              "      } catch (error) {\n",
              "        console.error('Error during call to suggestCharts:', error);\n",
              "      }\n",
              "      quickchartButtonEl.classList.remove('colab-df-spinner');\n",
              "      quickchartButtonEl.classList.add('colab-df-quickchart-complete');\n",
              "    }\n",
              "    (() => {\n",
              "      let quickchartButtonEl =\n",
              "        document.querySelector('#df-8a637e33-7671-4803-9e3d-6d62b03ade76 button');\n",
              "      quickchartButtonEl.style.display =\n",
              "        google.colab.kernel.accessAllowed ? 'block' : 'none';\n",
              "    })();\n",
              "  </script>\n",
              "</div>\n",
              "\n",
              "    </div>\n",
              "  </div>\n"
            ],
            "application/vnd.google.colaboratory.intrinsic+json": {
              "type": "dataframe",
              "summary": "{\n  \"name\": \"df[numerical]\",\n  \"rows\": 5,\n  \"fields\": [\n    {\n      \"column\": \"Customer ID\",\n      \"properties\": {\n        \"dtype\": \"number\",\n        \"std\": 1,\n        \"min\": 1,\n        \"max\": 5,\n        \"num_unique_values\": 5,\n        \"samples\": [\n          2,\n          5,\n          3\n        ],\n        \"semantic_type\": \"\",\n        \"description\": \"\"\n      }\n    },\n    {\n      \"column\": \"Age\",\n      \"properties\": {\n        \"dtype\": \"number\",\n        \"std\": 16,\n        \"min\": 19,\n        \"max\": 55,\n        \"num_unique_values\": 5,\n        \"samples\": [\n          19,\n          45,\n          50\n        ],\n        \"semantic_type\": \"\",\n        \"description\": \"\"\n      }\n    },\n    {\n      \"column\": \"Purchase Amount (USD)\",\n      \"properties\": {\n        \"dtype\": \"number\",\n        \"std\": 16,\n        \"min\": 49,\n        \"max\": 90,\n        \"num_unique_values\": 5,\n        \"samples\": [\n          64,\n          49,\n          73\n        ],\n        \"semantic_type\": \"\",\n        \"description\": \"\"\n      }\n    },\n    {\n      \"column\": \"Review Rating\",\n      \"properties\": {\n        \"dtype\": \"number\",\n        \"std\": 0.28284271247461895,\n        \"min\": 2.7,\n        \"max\": 3.5,\n        \"num_unique_values\": 3,\n        \"samples\": [\n          3.1,\n          3.5,\n          2.7\n        ],\n        \"semantic_type\": \"\",\n        \"description\": \"\"\n      }\n    },\n    {\n      \"column\": \"Previous Purchases\",\n      \"properties\": {\n        \"dtype\": \"number\",\n        \"std\": 17,\n        \"min\": 2,\n        \"max\": 49,\n        \"num_unique_values\": 5,\n        \"samples\": [\n          2,\n          31,\n          23\n        ],\n        \"semantic_type\": \"\",\n        \"description\": \"\"\n      }\n    },\n    {\n      \"column\": \"Category_encoded\",\n      \"properties\": {\n        \"dtype\": \"number\",\n        \"std\": 0,\n        \"min\": 1,\n        \"max\": 2,\n        \"num_unique_values\": 2,\n        \"samples\": [\n          2,\n          1\n        ],\n        \"semantic_type\": \"\",\n        \"description\": \"\"\n      }\n    },\n    {\n      \"column\": \"item\",\n      \"properties\": {\n        \"dtype\": \"number\",\n        \"std\": 8,\n        \"min\": 2,\n        \"max\": 23,\n        \"num_unique_values\": 4,\n        \"samples\": [\n          23,\n          14\n        ],\n        \"semantic_type\": \"\",\n        \"description\": \"\"\n      }\n    },\n    {\n      \"column\": \"subscription_status_encoded\",\n      \"properties\": {\n        \"dtype\": \"number\",\n        \"std\": 0,\n        \"min\": 1,\n        \"max\": 1,\n        \"num_unique_values\": 1,\n        \"samples\": [\n          1\n        ],\n        \"semantic_type\": \"\",\n        \"description\": \"\"\n      }\n    },\n    {\n      \"column\": \"payment_method_encoded\",\n      \"properties\": {\n        \"dtype\": \"number\",\n        \"std\": 1,\n        \"min\": 0,\n        \"max\": 4,\n        \"num_unique_values\": 4,\n        \"samples\": [\n          0\n        ],\n        \"semantic_type\": \"\",\n        \"description\": \"\"\n      }\n    }\n  ]\n}"
            }
          },
          "metadata": {},
          "execution_count": 260
        }
      ]
    },
    {
      "cell_type": "code",
      "source": [
        "df[numerical].isnull().sum()"
      ],
      "metadata": {
        "colab": {
          "base_uri": "https://localhost:8080/",
          "height": 366
        },
        "id": "9g18WosouQJG",
        "outputId": "8851565d-e2ba-4ec0-fba9-5dbbf3cf075b"
      },
      "execution_count": null,
      "outputs": [
        {
          "output_type": "execute_result",
          "data": {
            "text/plain": [
              "Customer ID                    0\n",
              "Age                            0\n",
              "Purchase Amount (USD)          0\n",
              "Review Rating                  0\n",
              "Previous Purchases             0\n",
              "Category_encoded               0\n",
              "item                           0\n",
              "subscription_status_encoded    0\n",
              "payment_method_encoded         0\n",
              "dtype: int64"
            ],
            "text/html": [
              "<div>\n",
              "<style scoped>\n",
              "    .dataframe tbody tr th:only-of-type {\n",
              "        vertical-align: middle;\n",
              "    }\n",
              "\n",
              "    .dataframe tbody tr th {\n",
              "        vertical-align: top;\n",
              "    }\n",
              "\n",
              "    .dataframe thead th {\n",
              "        text-align: right;\n",
              "    }\n",
              "</style>\n",
              "<table border=\"1\" class=\"dataframe\">\n",
              "  <thead>\n",
              "    <tr style=\"text-align: right;\">\n",
              "      <th></th>\n",
              "      <th>0</th>\n",
              "    </tr>\n",
              "  </thead>\n",
              "  <tbody>\n",
              "    <tr>\n",
              "      <th>Customer ID</th>\n",
              "      <td>0</td>\n",
              "    </tr>\n",
              "    <tr>\n",
              "      <th>Age</th>\n",
              "      <td>0</td>\n",
              "    </tr>\n",
              "    <tr>\n",
              "      <th>Purchase Amount (USD)</th>\n",
              "      <td>0</td>\n",
              "    </tr>\n",
              "    <tr>\n",
              "      <th>Review Rating</th>\n",
              "      <td>0</td>\n",
              "    </tr>\n",
              "    <tr>\n",
              "      <th>Previous Purchases</th>\n",
              "      <td>0</td>\n",
              "    </tr>\n",
              "    <tr>\n",
              "      <th>Category_encoded</th>\n",
              "      <td>0</td>\n",
              "    </tr>\n",
              "    <tr>\n",
              "      <th>item</th>\n",
              "      <td>0</td>\n",
              "    </tr>\n",
              "    <tr>\n",
              "      <th>subscription_status_encoded</th>\n",
              "      <td>0</td>\n",
              "    </tr>\n",
              "    <tr>\n",
              "      <th>payment_method_encoded</th>\n",
              "      <td>0</td>\n",
              "    </tr>\n",
              "  </tbody>\n",
              "</table>\n",
              "</div><br><label><b>dtype:</b> int64</label>"
            ]
          },
          "metadata": {},
          "execution_count": 261
        }
      ]
    },
    {
      "cell_type": "code",
      "source": [
        "# Boxplot for numerical variables\n",
        "plt.figure(figsize=(15, 10))\n",
        "plt.subplot(2, 2, 1)\n",
        "df.boxplot(column='Age')\n",
        "plt.title('')\n",
        "plt.ylabel('Age')\n",
        "\n",
        "plt.subplot(2, 2, 2)\n",
        "df.boxplot(column='Purchase Amount (USD)')\n",
        "plt.title('')\n",
        "plt.ylabel('Purchase Amount (USD)')\n",
        "\n",
        "plt.subplot(2, 2, 3)\n",
        "df.boxplot(column='Review Rating')\n",
        "plt.title('')\n",
        "plt.ylabel('Review Rating')\n",
        "\n",
        "plt.subplot(2, 2, 4)\n",
        "df.boxplot(column='Category_encoded')\n",
        "plt.title('')\n",
        "plt.ylabel('Category Encoded')\n",
        "\n",
        "plt.tight_layout()\n",
        "plt.show()"
      ],
      "metadata": {
        "colab": {
          "base_uri": "https://localhost:8080/",
          "height": 533
        },
        "id": "jKmX2_rIuVt5",
        "outputId": "6fcd57e9-b77e-4c6a-9418-50879cfbb2c4"
      },
      "execution_count": null,
      "outputs": [
        {
          "output_type": "display_data",
          "data": {
            "text/plain": [
              "<Figure size 1500x1000 with 4 Axes>"
            ],
            "image/png": "[encoded data removed]"
          },
          "metadata": {}
        }
      ]
    },
    {
      "cell_type": "markdown",
      "source": [
        "Interprestasi Boxplot\n",
        "\n",
        "- Age:\n",
        "Nilai tengah (median) usia pelanggan berada di sekitar 40-an tahun.\n",
        "Sebaran usia cukup luas dengan kuartil pertama sekitar 30-an tahun dan kuartil ketiga di sekitar 50-an tahun.\n",
        "Tidak ada outlier yang terdeteksi.\n",
        "\n",
        "\n",
        "- Purchase Amount (USD):\n",
        "Median pembelian sekitar $60.\n",
        "Sebagian besar transaksi berada dalam rentang $40 hingga $80.\n",
        "Tidak ada outlier yang signifikan.\n",
        "\n",
        "\n",
        "- Review Rating:\n",
        "Sebaran skor ulasan berada di antara 3 hingga 4,5 dengan beberapa nilai ekstrem.\n",
        "Tidak ada outlier yang signifikan.\n",
        "\n",
        "\n",
        "- Category Encoded:\n",
        "Sebagian besar data berada di kategori 1.\n",
        "Ada sedikit outlier di kategori 2."
      ],
      "metadata": {
        "id": "_hpUZQS6y5He"
      }
    },
    {
      "cell_type": "code",
      "source": [
        "# 10. Histograms to check distribution\n",
        "plt.figure(figsize=(15, 10))\n",
        "plt.subplot(2, 2, 1)\n",
        "df['Age'].hist(bins=10)\n",
        "plt.xlabel('Age')\n",
        "plt.ylabel('Frequency')\n",
        "\n",
        "plt.subplot(2, 2, 2)\n",
        "df['Purchase Amount (USD)'].hist(bins=10)\n",
        "plt.xlabel('Purchase Amount (USD)')\n",
        "plt.ylabel('Frequency')\n",
        "\n",
        "plt.subplot(2, 2, 3)\n",
        "df['Review Rating'].hist(bins=10)\n",
        "plt.xlabel('Review Rating')\n",
        "plt.ylabel('Frequency')\n",
        "\n",
        "plt.tight_layout()\n",
        "plt.show()"
      ],
      "metadata": {
        "colab": {
          "base_uri": "https://localhost:8080/",
          "height": 533
        },
        "id": "GxZeZa3bufWk",
        "outputId": "73135ed1-3e07-4c7d-f863-4b4ff2c6770e"
      },
      "execution_count": null,
      "outputs": [
        {
          "output_type": "display_data",
          "data": {
            "text/plain": [
              "<Figure size 1500x1000 with 3 Axes>"
            ],
            "image/png": "[encoded data removed]"
          },
          "metadata": {}
        }
      ]
    },
    {
      "cell_type": "markdown",
      "source": [
        "Interprestasi Histogram\n",
        "\n",
        "- Age:\n",
        "Distribusi usia pelanggan relatif merata, tetapi lebih banyak pelanggan yang berusia di atas 50 tahun.\n",
        "Jumlah pelanggan tertinggi terdapat pada rentang usia 60-70 tahun.\n",
        "\n",
        "- Purchase Amount (USD): Distribusi jumlah pembelian cukup merata dengan puncak di sekitar $80 hingga $100.\n",
        "Tidak ada pola yang mencolok di antara berbagai rentang harga.\n",
        "\n",
        "- Review Rating:Distribusi ulasan menunjukkan bahwa skor rata-rata berkisar antara 3 hingga 4,5.\n",
        "Skor ulasan 3,5 dan 4 tampaknya memiliki frekuensi yang lebih tinggi dibandingkan skor lainnya."
      ],
      "metadata": {
        "id": "VoT8Ducd1q_U"
      }
    },
    {
      "cell_type": "code",
      "source": [
        "# Find IQR for 'Age'\n",
        "IQR = df['Age'].quantile(0.75) - df['Age'].quantile(0.25)\n",
        "Lower_fence = df['Age'].quantile(0.25) - (IQR * 3)\n",
        "Upper_fence = df['Age'].quantile(0.75) + (IQR * 3)\n",
        "print('Age outliers are values < {lowerboundary} or > {upperboundary}'.format(lowerboundary=Lower_fence, upperboundary=Upper_fence))"
      ],
      "metadata": {
        "colab": {
          "base_uri": "https://localhost:8080/"
        },
        "id": "_hSO_wDDuio0",
        "outputId": "bb34c772-fb7c-44ca-f211-31cf959bc710"
      },
      "execution_count": null,
      "outputs": [
        {
          "output_type": "stream",
          "name": "stdout",
          "text": [
            "Age outliers are values < -47.0 or > 135.0\n"
          ]
        }
      ]
    },
    {
      "cell_type": "code",
      "source": [
        "# Find IQR for 'Customer age'\n",
        "IQR = df['Age'].quantile(0.75) - df['Age'].quantile(0.25)\n",
        "Lower_fence = df['Age'].quantile(0.25) - (IQR * 3)\n",
        "Upper_fence = df['Age'].quantile(0.75) + (IQR * 3)\n",
        "print('Customer age outliers are values < {lowerboundary} or > {upperboundary}'.format(lowerboundary=Lower_fence, upperboundary=Upper_fence))"
      ],
      "metadata": {
        "colab": {
          "base_uri": "https://localhost:8080/"
        },
        "id": "f1bjeCmRunn7",
        "outputId": "c6721835-b6fa-428a-f405-4cebe3451fbe"
      },
      "execution_count": null,
      "outputs": [
        {
          "output_type": "stream",
          "name": "stdout",
          "text": [
            "Customer age outliers are values < -47.0 or > 135.0\n"
          ]
        }
      ]
    },
    {
      "cell_type": "code",
      "source": [
        "# Find IQR for 'Income'\n",
        "IQR = df['Purchase Amount (USD)'].quantile(0.75) - df['Purchase Amount (USD)'].quantile(0.25)\n",
        "Lower_fence = df['Purchase Amount (USD)'].quantile(0.25) - (IQR * 3)\n",
        "Upper_fence = df['Purchase Amount (USD)'].quantile(0.75) + (IQR * 3)\n",
        "print('Income outliers are values < {lowerboundary} or > {upperboundary}'.format(lowerboundary=Lower_fence, upperboundary=Upper_fence))\n"
      ],
      "metadata": {
        "colab": {
          "base_uri": "https://localhost:8080/"
        },
        "id": "w1vIJEXKBr2G",
        "outputId": "490264d7-f331-4735-f705-ccba6a2d6220"
      },
      "execution_count": null,
      "outputs": [
        {
          "output_type": "stream",
          "name": "stdout",
          "text": [
            "Income outliers are values < -87.0 or > 207.0\n"
          ]
        }
      ]
    },
    {
      "cell_type": "code",
      "source": [
        "# Find IQR for 'Review Rating'\n",
        "IQR = df['Review Rating'].quantile(0.75) - df['Review Rating'].quantile(0.25)\n",
        "Lower_fence = df['Review Rating'].quantile(0.25) - (IQR * 3)\n",
        "Upper_fence = df['Review Rating'].quantile(0.75) + (IQR * 3)\n",
        "print('Credit score outliers are values < {lowerboundary} or > {upperboundary}'.format(lowerboundary=Lower_fence, upperboundary=Upper_fence))\n"
      ],
      "metadata": {
        "colab": {
          "base_uri": "https://localhost:8080/"
        },
        "id": "47-E4VWSSEkN",
        "outputId": "fb4797cc-2fbe-4781-cc06-9abcb2973336"
      },
      "execution_count": null,
      "outputs": [
        {
          "output_type": "stream",
          "name": "stdout",
          "text": [
            "Credit score outliers are values < -0.8000000000000007 or > 8.3\n"
          ]
        }
      ]
    },
    {
      "cell_type": "code",
      "source": [
        "# Scatterplot\n",
        "sns.regplot(x='Purchase Amount (USD)', y='Age', data=df)\n",
        "plt.title('Income vs Age')\n",
        "plt.show()"
      ],
      "metadata": {
        "colab": {
          "base_uri": "https://localhost:8080/",
          "height": 472
        },
        "id": "wlh1YHdPuy_L",
        "outputId": "e7b854bb-5944-459a-a780-17141939af4c"
      },
      "execution_count": null,
      "outputs": [
        {
          "output_type": "display_data",
          "data": {
            "text/plain": [
              "<Figure size 640x480 with 1 Axes>"
            ],
            "image/png": "[encoded data removed]"
          },
          "metadata": {}
        }
      ]
    },
    {
      "cell_type": "markdown",
      "source": [
        "Interprestasi Scatterplot:\n",
        "\n",
        "Income vs Age\n",
        "Hubungan antara usia dan jumlah pembelian (Purchase Amount) tidak menunjukkan pola yang jelas, yang mengindikasikan bahwa jumlah pembelian tidak tergantung secara signifikan pada usia.\n",
        "Sebaran pembelian mencakup berbagai rentang usia dari 20 hingga 70 tahun, dengan jumlah pembelian berkisar antara $20 hingga $100."
      ],
      "metadata": {
        "id": "Ps7SvmM92qMJ"
      }
    },
    {
      "cell_type": "code",
      "source": [
        "# Boxplots for numerical columns\n",
        "plt.figure(figsize=(10, 6))\n",
        "\n",
        "for i, col in enumerate(['Age', 'Purchase Amount (USD)'], 1):\n",
        "    plt.subplot(1, 2, i)\n",
        "    sns.boxplot(x='payment_method_encoded', y=col, data=df)\n",
        "    plt.title(f\"Box plot of {col} by Payment Method\")\n",
        "\n",
        "plt.tight_layout()\n",
        "plt.show()"
      ],
      "metadata": {
        "colab": {
          "base_uri": "https://localhost:8080/",
          "height": 471
        },
        "id": "VeOvQFmvu2n3",
        "outputId": "40736e38-1edd-467d-c2cd-919a5fb666e6"
      },
      "execution_count": null,
      "outputs": [
        {
          "output_type": "display_data",
          "data": {
            "text/plain": [
              "<Figure size 1000x600 with 2 Axes>"
            ],
            "image/png": "[encoded data removed]"
          },
          "metadata": {}
        }
      ]
    },
    {
      "cell_type": "markdown",
      "source": [
        "Interprestasi Boxplot:\n",
        "\n",
        "Boxplot of Age by Payment Method:\n",
        "\n",
        "- Usia pelanggan relatif konsisten di berbagai metode pembayaran.\n",
        "\n",
        "- Median usia pelanggan untuk semua metode berada di kisaran 40-50 tahun.\n",
        "\n",
        "- Rentang usia pelanggan mencakup kelompok usia muda hingga tua tanpa adanya perbedaan mencolok antar metode pembayaran.\n",
        "\n",
        "\n",
        "Boxplot of Purchase Amount (USD) by Payment Method:\n",
        "\n",
        "- Median jumlah pembelian relatif serupa di semua metode pembayaran, berada di kisaran $60-$70.\n",
        "\n",
        "- Metode pembayaran tertentu memiliki variabilitas yang lebih besar pada jumlah pembelian, seperti pada metode 3 dan 4.\n",
        "\n",
        "- Tidak ada outlier signifikan untuk jumlah pembelian berdasarkan metode pembayaran."
      ],
      "metadata": {
        "id": "5ZaWespa25pO"
      }
    },
    {
      "cell_type": "code",
      "source": [
        "# Bar plot\n",
        "df.groupby('payment_method_encoded').size().plot(kind='barh', color=sns.color_palette('Dark2'))\n",
        "plt.title('Payment Method Distribution')\n",
        "plt.gca().spines[['top', 'right']].set_visible(False)\n",
        "plt.show()"
      ],
      "metadata": {
        "colab": {
          "base_uri": "https://localhost:8080/",
          "height": 452
        },
        "id": "Yb8morCiu5w6",
        "outputId": "7db26dbd-d1c9-4fb0-e9f0-bd9e6da4f698"
      },
      "execution_count": null,
      "outputs": [
        {
          "output_type": "display_data",
          "data": {
            "text/plain": [
              "<Figure size 640x480 with 1 Axes>"
            ],
            "image/png": "[encoded data removed]"
          },
          "metadata": {}
        }
      ]
    },
    {
      "cell_type": "markdown",
      "source": [
        "Interprestasi Bar Chart: Payment Method Distribution\n",
        "\n",
        "Distribusi Metode Pembayaran:\n",
        "\n",
        "- Metode pembayaran dengan label 5 adalah yang paling sering digunakan, dengan jumlah transaksi tertinggi lebih dari 700.\n",
        "\n",
        "- Metode pembayaran lainnya (0, 1, 2, 3, 4) memiliki distribusi yang relatif seimbang, tetapi masing-masing di bawah 700 transaksi.\n",
        "\n",
        "- Metode pembayaran 1 dan 3 memiliki jumlah transaksi paling sedikit dibandingkan yang lain."
      ],
      "metadata": {
        "id": "4WucWgvU3TvN"
      }
    },
    {
      "cell_type": "markdown",
      "source": [
        "## Building Model"
      ],
      "metadata": {
        "id": "babGyo-FY_CY"
      }
    },
    {
      "cell_type": "code",
      "source": [
        "X = df.drop(columns=['payment_method_encoded'])\n",
        "y = df['payment_method_encoded']"
      ],
      "metadata": {
        "id": "4adEgLb6ZCHm"
      },
      "execution_count": null,
      "outputs": []
    },
    {
      "cell_type": "code",
      "source": [
        "# Splitting Data\n",
        "X_train, X_test, y_train, y_test = train_test_split(X, y, test_size=0.2, random_state=0)"
      ],
      "metadata": {
        "id": "TZ4-bcwZZJhu"
      },
      "execution_count": null,
      "outputs": []
    },
    {
      "cell_type": "code",
      "source": [
        "numerical = [col for col in X_train.columns if X_train[col].dtypes != 'O']\n",
        "\n",
        "numerical"
      ],
      "metadata": {
        "colab": {
          "base_uri": "https://localhost:8080/"
        },
        "id": "mRg1mzrVaKEh",
        "outputId": "df289f5b-c62d-4b07-fa02-1cb37197616b"
      },
      "execution_count": null,
      "outputs": [
        {
          "output_type": "execute_result",
          "data": {
            "text/plain": [
              "['Customer ID',\n",
              " 'Age',\n",
              " 'Purchase Amount (USD)',\n",
              " 'Review Rating',\n",
              " 'Previous Purchases',\n",
              " 'Category_encoded',\n",
              " 'item',\n",
              " 'subscription_status_encoded']"
            ]
          },
          "metadata": {},
          "execution_count": 273
        }
      ]
    },
    {
      "cell_type": "code",
      "source": [
        "X_train[numerical].isnull().sum()"
      ],
      "metadata": {
        "colab": {
          "base_uri": "https://localhost:8080/",
          "height": 335
        },
        "id": "sY08uF7-vMUl",
        "outputId": "e5f97a3e-9d1b-4ea1-c83d-8c4e579c6eea"
      },
      "execution_count": null,
      "outputs": [
        {
          "output_type": "execute_result",
          "data": {
            "text/plain": [
              "Customer ID                    0\n",
              "Age                            0\n",
              "Purchase Amount (USD)          0\n",
              "Review Rating                  0\n",
              "Previous Purchases             0\n",
              "Category_encoded               0\n",
              "item                           0\n",
              "subscription_status_encoded    0\n",
              "dtype: int64"
            ],
            "text/html": [
              "<div>\n",
              "<style scoped>\n",
              "    .dataframe tbody tr th:only-of-type {\n",
              "        vertical-align: middle;\n",
              "    }\n",
              "\n",
              "    .dataframe tbody tr th {\n",
              "        vertical-align: top;\n",
              "    }\n",
              "\n",
              "    .dataframe thead th {\n",
              "        text-align: right;\n",
              "    }\n",
              "</style>\n",
              "<table border=\"1\" class=\"dataframe\">\n",
              "  <thead>\n",
              "    <tr style=\"text-align: right;\">\n",
              "      <th></th>\n",
              "      <th>0</th>\n",
              "    </tr>\n",
              "  </thead>\n",
              "  <tbody>\n",
              "    <tr>\n",
              "      <th>Customer ID</th>\n",
              "      <td>0</td>\n",
              "    </tr>\n",
              "    <tr>\n",
              "      <th>Age</th>\n",
              "      <td>0</td>\n",
              "    </tr>\n",
              "    <tr>\n",
              "      <th>Purchase Amount (USD)</th>\n",
              "      <td>0</td>\n",
              "    </tr>\n",
              "    <tr>\n",
              "      <th>Review Rating</th>\n",
              "      <td>0</td>\n",
              "    </tr>\n",
              "    <tr>\n",
              "      <th>Previous Purchases</th>\n",
              "      <td>0</td>\n",
              "    </tr>\n",
              "    <tr>\n",
              "      <th>Category_encoded</th>\n",
              "      <td>0</td>\n",
              "    </tr>\n",
              "    <tr>\n",
              "      <th>item</th>\n",
              "      <td>0</td>\n",
              "    </tr>\n",
              "    <tr>\n",
              "      <th>subscription_status_encoded</th>\n",
              "      <td>0</td>\n",
              "    </tr>\n",
              "  </tbody>\n",
              "</table>\n",
              "</div><br><label><b>dtype:</b> int64</label>"
            ]
          },
          "metadata": {},
          "execution_count": 274
        }
      ]
    },
    {
      "cell_type": "code",
      "source": [
        "X_test[numerical].isnull().sum()"
      ],
      "metadata": {
        "colab": {
          "base_uri": "https://localhost:8080/",
          "height": 335
        },
        "id": "tSyzY5wHvPkX",
        "outputId": "29260407-cd2c-4582-cd24-70a685ad51aa"
      },
      "execution_count": null,
      "outputs": [
        {
          "output_type": "execute_result",
          "data": {
            "text/plain": [
              "Customer ID                    0\n",
              "Age                            0\n",
              "Purchase Amount (USD)          0\n",
              "Review Rating                  0\n",
              "Previous Purchases             0\n",
              "Category_encoded               0\n",
              "item                           0\n",
              "subscription_status_encoded    0\n",
              "dtype: int64"
            ],
            "text/html": [
              "<div>\n",
              "<style scoped>\n",
              "    .dataframe tbody tr th:only-of-type {\n",
              "        vertical-align: middle;\n",
              "    }\n",
              "\n",
              "    .dataframe tbody tr th {\n",
              "        vertical-align: top;\n",
              "    }\n",
              "\n",
              "    .dataframe thead th {\n",
              "        text-align: right;\n",
              "    }\n",
              "</style>\n",
              "<table border=\"1\" class=\"dataframe\">\n",
              "  <thead>\n",
              "    <tr style=\"text-align: right;\">\n",
              "      <th></th>\n",
              "      <th>0</th>\n",
              "    </tr>\n",
              "  </thead>\n",
              "  <tbody>\n",
              "    <tr>\n",
              "      <th>Customer ID</th>\n",
              "      <td>0</td>\n",
              "    </tr>\n",
              "    <tr>\n",
              "      <th>Age</th>\n",
              "      <td>0</td>\n",
              "    </tr>\n",
              "    <tr>\n",
              "      <th>Purchase Amount (USD)</th>\n",
              "      <td>0</td>\n",
              "    </tr>\n",
              "    <tr>\n",
              "      <th>Review Rating</th>\n",
              "      <td>0</td>\n",
              "    </tr>\n",
              "    <tr>\n",
              "      <th>Previous Purchases</th>\n",
              "      <td>0</td>\n",
              "    </tr>\n",
              "    <tr>\n",
              "      <th>Category_encoded</th>\n",
              "      <td>0</td>\n",
              "    </tr>\n",
              "    <tr>\n",
              "      <th>item</th>\n",
              "      <td>0</td>\n",
              "    </tr>\n",
              "    <tr>\n",
              "      <th>subscription_status_encoded</th>\n",
              "      <td>0</td>\n",
              "    </tr>\n",
              "  </tbody>\n",
              "</table>\n",
              "</div><br><label><b>dtype:</b> int64</label>"
            ]
          },
          "metadata": {},
          "execution_count": 275
        }
      ]
    },
    {
      "cell_type": "code",
      "source": [
        "from sklearn.preprocessing import LabelEncoder\n",
        "\n",
        "# Encode semua kolom kategori di X_train\n",
        "label_encoder = LabelEncoder()\n",
        "for col in X_train.select_dtypes(include='object').columns:\n",
        "    X_train[col] = label_encoder.fit_transform(X_train[col])\n",
        "    X_test[col] = label_encoder.transform(X_test[col])\n"
      ],
      "metadata": {
        "id": "SDAr_KJNUtqr"
      },
      "execution_count": null,
      "outputs": []
    },
    {
      "cell_type": "code",
      "source": [
        "# Train logistic regression model\n",
        "from sklearn.linear_model import LogisticRegression\n",
        "\n",
        "logreg = LogisticRegression(solver='liblinear', random_state=0)\n",
        "logreg.fit(X_train, y_train)\n"
      ],
      "metadata": {
        "colab": {
          "base_uri": "https://localhost:8080/",
          "height": 80
        },
        "id": "fGvSL4mwvT3C",
        "outputId": "6ad5c280-d622-490d-b763-9b1527e606aa"
      },
      "execution_count": null,
      "outputs": [
        {
          "output_type": "execute_result",
          "data": {
            "text/plain": [
              "LogisticRegression(random_state=0, solver='liblinear')"
            ],
            "text/html": [
              "<style>#sk-container-id-5 {\n",
              "  /* Definition of color scheme common for light and dark mode */\n",
              "  --sklearn-color-text: black;\n",
              "  --sklearn-color-line: gray;\n",
              "  /* Definition of color scheme for unfitted estimators */\n",
              "  --sklearn-color-unfitted-level-0: #fff5e6;\n",
              "  --sklearn-color-unfitted-level-1: #f6e4d2;\n",
              "  --sklearn-color-unfitted-level-2: #ffe0b3;\n",
              "  --sklearn-color-unfitted-level-3: chocolate;\n",
              "  /* Definition of color scheme for fitted estimators */\n",
              "  --sklearn-color-fitted-level-0: #f0f8ff;\n",
              "  --sklearn-color-fitted-level-1: #d4ebff;\n",
              "  --sklearn-color-fitted-level-2: #b3dbfd;\n",
              "  --sklearn-color-fitted-level-3: cornflowerblue;\n",
              "\n",
              "  /* Specific color for light theme */\n",
              "  --sklearn-color-text-on-default-background: var(--sg-text-color, var(--theme-code-foreground, var(--jp-content-font-color1, black)));\n",
              "  --sklearn-color-background: var(--sg-background-color, var(--theme-background, var(--jp-layout-color0, white)));\n",
              "  --sklearn-color-border-box: var(--sg-text-color, var(--theme-code-foreground, var(--jp-content-font-color1, black)));\n",
              "  --sklearn-color-icon: #696969;\n",
              "\n",
              "  @media (prefers-color-scheme: dark) {\n",
              "    /* Redefinition of color scheme for dark theme */\n",
              "    --sklearn-color-text-on-default-background: var(--sg-text-color, var(--theme-code-foreground, var(--jp-content-font-color1, white)));\n",
              "    --sklearn-color-background: var(--sg-background-color, var(--theme-background, var(--jp-layout-color0, #111)));\n",
              "    --sklearn-color-border-box: var(--sg-text-color, var(--theme-code-foreground, var(--jp-content-font-color1, white)));\n",
              "    --sklearn-color-icon: #878787;\n",
              "  }\n",
              "}\n",
              "\n",
              "#sk-container-id-5 {\n",
              "  color: var(--sklearn-color-text);\n",
              "}\n",
              "\n",
              "#sk-container-id-5 pre {\n",
              "  padding: 0;\n",
              "}\n",
              "\n",
              "#sk-container-id-5 input.sk-hidden--visually {\n",
              "  border: 0;\n",
              "  clip: rect(1px 1px 1px 1px);\n",
              "  clip: rect(1px, 1px, 1px, 1px);\n",
              "  height: 1px;\n",
              "  margin: -1px;\n",
              "  overflow: hidden;\n",
              "  padding: 0;\n",
              "  position: absolute;\n",
              "  width: 1px;\n",
              "}\n",
              "\n",
              "#sk-container-id-5 div.sk-dashed-wrapped {\n",
              "  border: 1px dashed var(--sklearn-color-line);\n",
              "  margin: 0 0.4em 0.5em 0.4em;\n",
              "  box-sizing: border-box;\n",
              "  padding-bottom: 0.4em;\n",
              "  background-color: var(--sklearn-color-background);\n",
              "}\n",
              "\n",
              "#sk-container-id-5 div.sk-container {\n",
              "  /* jupyter's `normalize.less` sets `[hidden] { display: none; }`\n",
              "     but bootstrap.min.css set `[hidden] { display: none !important; }`\n",
              "     so we also need the `!important` here to be able to override the\n",
              "     default hidden behavior on the sphinx rendered scikit-learn.org.\n",
              "     See: https://github.com/scikit-learn/scikit-learn/issues/21755 */\n",
              "  display: inline-block !important;\n",
              "  position: relative;\n",
              "}\n",
              "\n",
              "#sk-container-id-5 div.sk-text-repr-fallback {\n",
              "  display: none;\n",
              "}\n",
              "\n",
              "div.sk-parallel-item,\n",
              "div.sk-serial,\n",
              "div.sk-item {\n",
              "  /* draw centered vertical line to link estimators */\n",
              "  background-image: linear-gradient(var(--sklearn-color-text-on-default-background), var(--sklearn-color-text-on-default-background));\n",
              "  background-size: 2px 100%;\n",
              "  background-repeat: no-repeat;\n",
              "  background-position: center center;\n",
              "}\n",
              "\n",
              "/* Parallel-specific style estimator block */\n",
              "\n",
              "#sk-container-id-5 div.sk-parallel-item::after {\n",
              "  content: \"\";\n",
              "  width: 100%;\n",
              "  border-bottom: 2px solid var(--sklearn-color-text-on-default-background);\n",
              "  flex-grow: 1;\n",
              "}\n",
              "\n",
              "#sk-container-id-5 div.sk-parallel {\n",
              "  display: flex;\n",
              "  align-items: stretch;\n",
              "  justify-content: center;\n",
              "  background-color: var(--sklearn-color-background);\n",
              "  position: relative;\n",
              "}\n",
              "\n",
              "#sk-container-id-5 div.sk-parallel-item {\n",
              "  display: flex;\n",
              "  flex-direction: column;\n",
              "}\n",
              "\n",
              "#sk-container-id-5 div.sk-parallel-item:first-child::after {\n",
              "  align-self: flex-end;\n",
              "  width: 50%;\n",
              "}\n",
              "\n",
              "#sk-container-id-5 div.sk-parallel-item:last-child::after {\n",
              "  align-self: flex-start;\n",
              "  width: 50%;\n",
              "}\n",
              "\n",
              "#sk-container-id-5 div.sk-parallel-item:only-child::after {\n",
              "  width: 0;\n",
              "}\n",
              "\n",
              "/* Serial-specific style estimator block */\n",
              "\n",
              "#sk-container-id-5 div.sk-serial {\n",
              "  display: flex;\n",
              "  flex-direction: column;\n",
              "  align-items: center;\n",
              "  background-color: var(--sklearn-color-background);\n",
              "  padding-right: 1em;\n",
              "  padding-left: 1em;\n",
              "}\n",
              "\n",
              "\n",
              "/* Toggleable style: style used for estimator/Pipeline/ColumnTransformer box that is\n",
              "clickable and can be expanded/collapsed.\n",
              "- Pipeline and ColumnTransformer use this feature and define the default style\n",
              "- Estimators will overwrite some part of the style using the `sk-estimator` class\n",
              "*/\n",
              "\n",
              "/* Pipeline and ColumnTransformer style (default) */\n",
              "\n",
              "#sk-container-id-5 div.sk-toggleable {\n",
              "  /* Default theme specific background. It is overwritten whether we have a\n",
              "  specific estimator or a Pipeline/ColumnTransformer */\n",
              "  background-color: var(--sklearn-color-background);\n",
              "}\n",
              "\n",
              "/* Toggleable label */\n",
              "#sk-container-id-5 label.sk-toggleable__label {\n",
              "  cursor: pointer;\n",
              "  display: block;\n",
              "  width: 100%;\n",
              "  margin-bottom: 0;\n",
              "  padding: 0.5em;\n",
              "  box-sizing: border-box;\n",
              "  text-align: center;\n",
              "}\n",
              "\n",
              "#sk-container-id-5 label.sk-toggleable__label-arrow:before {\n",
              "  /* Arrow on the left of the label */\n",
              "  content: \"▸\";\n",
              "  float: left;\n",
              "  margin-right: 0.25em;\n",
              "  color: var(--sklearn-color-icon);\n",
              "}\n",
              "\n",
              "#sk-container-id-5 label.sk-toggleable__label-arrow:hover:before {\n",
              "  color: var(--sklearn-color-text);\n",
              "}\n",
              "\n",
              "/* Toggleable content - dropdown */\n",
              "\n",
              "#sk-container-id-5 div.sk-toggleable__content {\n",
              "  max-height: 0;\n",
              "  max-width: 0;\n",
              "  overflow: hidden;\n",
              "  text-align: left;\n",
              "  /* unfitted */\n",
              "  background-color: var(--sklearn-color-unfitted-level-0);\n",
              "}\n",
              "\n",
              "#sk-container-id-5 div.sk-toggleable__content.fitted {\n",
              "  /* fitted */\n",
              "  background-color: var(--sklearn-color-fitted-level-0);\n",
              "}\n",
              "\n",
              "#sk-container-id-5 div.sk-toggleable__content pre {\n",
              "  margin: 0.2em;\n",
              "  border-radius: 0.25em;\n",
              "  color: var(--sklearn-color-text);\n",
              "  /* unfitted */\n",
              "  background-color: var(--sklearn-color-unfitted-level-0);\n",
              "}\n",
              "\n",
              "#sk-container-id-5 div.sk-toggleable__content.fitted pre {\n",
              "  /* unfitted */\n",
              "  background-color: var(--sklearn-color-fitted-level-0);\n",
              "}\n",
              "\n",
              "#sk-container-id-5 input.sk-toggleable__control:checked~div.sk-toggleable__content {\n",
              "  /* Expand drop-down */\n",
              "  max-height: 200px;\n",
              "  max-width: 100%;\n",
              "  overflow: auto;\n",
              "}\n",
              "\n",
              "#sk-container-id-5 input.sk-toggleable__control:checked~label.sk-toggleable__label-arrow:before {\n",
              "  content: \"▾\";\n",
              "}\n",
              "\n",
              "/* Pipeline/ColumnTransformer-specific style */\n",
              "\n",
              "#sk-container-id-5 div.sk-label input.sk-toggleable__control:checked~label.sk-toggleable__label {\n",
              "  color: var(--sklearn-color-text);\n",
              "  background-color: var(--sklearn-color-unfitted-level-2);\n",
              "}\n",
              "\n",
              "#sk-container-id-5 div.sk-label.fitted input.sk-toggleable__control:checked~label.sk-toggleable__label {\n",
              "  background-color: var(--sklearn-color-fitted-level-2);\n",
              "}\n",
              "\n",
              "/* Estimator-specific style */\n",
              "\n",
              "/* Colorize estimator box */\n",
              "#sk-container-id-5 div.sk-estimator input.sk-toggleable__control:checked~label.sk-toggleable__label {\n",
              "  /* unfitted */\n",
              "  background-color: var(--sklearn-color-unfitted-level-2);\n",
              "}\n",
              "\n",
              "#sk-container-id-5 div.sk-estimator.fitted input.sk-toggleable__control:checked~label.sk-toggleable__label {\n",
              "  /* fitted */\n",
              "  background-color: var(--sklearn-color-fitted-level-2);\n",
              "}\n",
              "\n",
              "#sk-container-id-5 div.sk-label label.sk-toggleable__label,\n",
              "#sk-container-id-5 div.sk-label label {\n",
              "  /* The background is the default theme color */\n",
              "  color: var(--sklearn-color-text-on-default-background);\n",
              "}\n",
              "\n",
              "/* On hover, darken the color of the background */\n",
              "#sk-container-id-5 div.sk-label:hover label.sk-toggleable__label {\n",
              "  color: var(--sklearn-color-text);\n",
              "  background-color: var(--sklearn-color-unfitted-level-2);\n",
              "}\n",
              "\n",
              "/* Label box, darken color on hover, fitted */\n",
              "#sk-container-id-5 div.sk-label.fitted:hover label.sk-toggleable__label.fitted {\n",
              "  color: var(--sklearn-color-text);\n",
              "  background-color: var(--sklearn-color-fitted-level-2);\n",
              "}\n",
              "\n",
              "/* Estimator label */\n",
              "\n",
              "#sk-container-id-5 div.sk-label label {\n",
              "  font-family: monospace;\n",
              "  font-weight: bold;\n",
              "  display: inline-block;\n",
              "  line-height: 1.2em;\n",
              "}\n",
              "\n",
              "#sk-container-id-5 div.sk-label-container {\n",
              "  text-align: center;\n",
              "}\n",
              "\n",
              "/* Estimator-specific */\n",
              "#sk-container-id-5 div.sk-estimator {\n",
              "  font-family: monospace;\n",
              "  border: 1px dotted var(--sklearn-color-border-box);\n",
              "  border-radius: 0.25em;\n",
              "  box-sizing: border-box;\n",
              "  margin-bottom: 0.5em;\n",
              "  /* unfitted */\n",
              "  background-color: var(--sklearn-color-unfitted-level-0);\n",
              "}\n",
              "\n",
              "#sk-container-id-5 div.sk-estimator.fitted {\n",
              "  /* fitted */\n",
              "  background-color: var(--sklearn-color-fitted-level-0);\n",
              "}\n",
              "\n",
              "/* on hover */\n",
              "#sk-container-id-5 div.sk-estimator:hover {\n",
              "  /* unfitted */\n",
              "  background-color: var(--sklearn-color-unfitted-level-2);\n",
              "}\n",
              "\n",
              "#sk-container-id-5 div.sk-estimator.fitted:hover {\n",
              "  /* fitted */\n",
              "  background-color: var(--sklearn-color-fitted-level-2);\n",
              "}\n",
              "\n",
              "/* Specification for estimator info (e.g. \"i\" and \"?\") */\n",
              "\n",
              "/* Common style for \"i\" and \"?\" */\n",
              "\n",
              ".sk-estimator-doc-link,\n",
              "a:link.sk-estimator-doc-link,\n",
              "a:visited.sk-estimator-doc-link {\n",
              "  float: right;\n",
              "  font-size: smaller;\n",
              "  line-height: 1em;\n",
              "  font-family: monospace;\n",
              "  background-color: var(--sklearn-color-background);\n",
              "  border-radius: 1em;\n",
              "  height: 1em;\n",
              "  width: 1em;\n",
              "  text-decoration: none !important;\n",
              "  margin-left: 1ex;\n",
              "  /* unfitted */\n",
              "  border: var(--sklearn-color-unfitted-level-1) 1pt solid;\n",
              "  color: var(--sklearn-color-unfitted-level-1);\n",
              "}\n",
              "\n",
              ".sk-estimator-doc-link.fitted,\n",
              "a:link.sk-estimator-doc-link.fitted,\n",
              "a:visited.sk-estimator-doc-link.fitted {\n",
              "  /* fitted */\n",
              "  border: var(--sklearn-color-fitted-level-1) 1pt solid;\n",
              "  color: var(--sklearn-color-fitted-level-1);\n",
              "}\n",
              "\n",
              "/* On hover */\n",
              "div.sk-estimator:hover .sk-estimator-doc-link:hover,\n",
              ".sk-estimator-doc-link:hover,\n",
              "div.sk-label-container:hover .sk-estimator-doc-link:hover,\n",
              ".sk-estimator-doc-link:hover {\n",
              "  /* unfitted */\n",
              "  background-color: var(--sklearn-color-unfitted-level-3);\n",
              "  color: var(--sklearn-color-background);\n",
              "  text-decoration: none;\n",
              "}\n",
              "\n",
              "div.sk-estimator.fitted:hover .sk-estimator-doc-link.fitted:hover,\n",
              ".sk-estimator-doc-link.fitted:hover,\n",
              "div.sk-label-container:hover .sk-estimator-doc-link.fitted:hover,\n",
              ".sk-estimator-doc-link.fitted:hover {\n",
              "  /* fitted */\n",
              "  background-color: var(--sklearn-color-fitted-level-3);\n",
              "  color: var(--sklearn-color-background);\n",
              "  text-decoration: none;\n",
              "}\n",
              "\n",
              "/* Span, style for the box shown on hovering the info icon */\n",
              ".sk-estimator-doc-link span {\n",
              "  display: none;\n",
              "  z-index: 9999;\n",
              "  position: relative;\n",
              "  font-weight: normal;\n",
              "  right: .2ex;\n",
              "  padding: .5ex;\n",
              "  margin: .5ex;\n",
              "  width: min-content;\n",
              "  min-width: 20ex;\n",
              "  max-width: 50ex;\n",
              "  color: var(--sklearn-color-text);\n",
              "  box-shadow: 2pt 2pt 4pt #999;\n",
              "  /* unfitted */\n",
              "  background: var(--sklearn-color-unfitted-level-0);\n",
              "  border: .5pt solid var(--sklearn-color-unfitted-level-3);\n",
              "}\n",
              "\n",
              ".sk-estimator-doc-link.fitted span {\n",
              "  /* fitted */\n",
              "  background: var(--sklearn-color-fitted-level-0);\n",
              "  border: var(--sklearn-color-fitted-level-3);\n",
              "}\n",
              "\n",
              ".sk-estimator-doc-link:hover span {\n",
              "  display: block;\n",
              "}\n",
              "\n",
              "/* \"?\"-specific style due to the `<a>` HTML tag */\n",
              "\n",
              "#sk-container-id-5 a.estimator_doc_link {\n",
              "  float: right;\n",
              "  font-size: 1rem;\n",
              "  line-height: 1em;\n",
              "  font-family: monospace;\n",
              "  background-color: var(--sklearn-color-background);\n",
              "  border-radius: 1rem;\n",
              "  height: 1rem;\n",
              "  width: 1rem;\n",
              "  text-decoration: none;\n",
              "  /* unfitted */\n",
              "  color: var(--sklearn-color-unfitted-level-1);\n",
              "  border: var(--sklearn-color-unfitted-level-1) 1pt solid;\n",
              "}\n",
              "\n",
              "#sk-container-id-5 a.estimator_doc_link.fitted {\n",
              "  /* fitted */\n",
              "  border: var(--sklearn-color-fitted-level-1) 1pt solid;\n",
              "  color: var(--sklearn-color-fitted-level-1);\n",
              "}\n",
              "\n",
              "/* On hover */\n",
              "#sk-container-id-5 a.estimator_doc_link:hover {\n",
              "  /* unfitted */\n",
              "  background-color: var(--sklearn-color-unfitted-level-3);\n",
              "  color: var(--sklearn-color-background);\n",
              "  text-decoration: none;\n",
              "}\n",
              "\n",
              "#sk-container-id-5 a.estimator_doc_link.fitted:hover {\n",
              "  /* fitted */\n",
              "  background-color: var(--sklearn-color-fitted-level-3);\n",
              "}\n",
              "</style><div id=\"sk-container-id-5\" class=\"sk-top-container\"><div class=\"sk-text-repr-fallback\"><pre>LogisticRegression(random_state=0, solver=&#x27;liblinear&#x27;)</pre><b>In a Jupyter environment, please rerun this cell to show the HTML representation or trust the notebook. <br />On GitHub, the HTML representation is unable to render, please try loading this page with nbviewer.org.</b></div><div class=\"sk-container\" hidden><div class=\"sk-item\"><div class=\"sk-estimator fitted sk-toggleable\"><input class=\"sk-toggleable__control sk-hidden--visually\" id=\"sk-estimator-id-5\" type=\"checkbox\" checked><label for=\"sk-estimator-id-5\" class=\"sk-toggleable__label fitted sk-toggleable__label-arrow fitted\">&nbsp;&nbsp;LogisticRegression<a class=\"sk-estimator-doc-link fitted\" rel=\"noreferrer\" target=\"_blank\" href=\"https://scikit-learn.org/1.5/modules/generated/sklearn.linear_model.LogisticRegression.html\">?<span>Documentation for LogisticRegression</span></a><span class=\"sk-estimator-doc-link fitted\">i<span>Fitted</span></span></label><div class=\"sk-toggleable__content fitted\"><pre>LogisticRegression(random_state=0, solver=&#x27;liblinear&#x27;)</pre></div> </div></div></div></div>"
            ]
          },
          "metadata": {},
          "execution_count": 277
        }
      ]
    },
    {
      "cell_type": "code",
      "source": [
        "# make prediction\n",
        "\n",
        "y_pred_test = logreg.predict(X_test)\n",
        "\n",
        "y_pred_test"
      ],
      "metadata": {
        "colab": {
          "base_uri": "https://localhost:8080/"
        },
        "id": "IHjHAB3FVAcF",
        "outputId": "d3f6b1ec-21cd-4322-b528-18fb46e7cf14"
      },
      "execution_count": null,
      "outputs": [
        {
          "output_type": "execute_result",
          "data": {
            "text/plain": [
              "array([1, 1, 3, 2, 2, 2, 1, 3, 2, 2, 2, 5, 1, 5, 1, 1, 2, 5, 2, 3, 2, 5,\n",
              "       2, 2, 2, 2, 1, 5, 2, 1, 2, 4, 2, 1, 1, 3, 5, 5, 5, 0, 5, 2, 2, 2,\n",
              "       2, 2, 0, 4, 4, 2, 1, 5, 1, 4, 3, 1, 2, 3, 2, 4, 2, 2, 5, 1, 2, 2,\n",
              "       2, 3, 2, 2, 2, 2, 5, 1, 1, 5, 4, 2, 2, 2, 2, 4, 2, 1, 2, 3, 3, 2,\n",
              "       4, 5, 3, 3, 5, 2, 2, 4, 4, 4, 5, 2, 3, 3, 1, 2, 2, 5, 5, 5, 1, 1,\n",
              "       3, 2, 4, 1, 5, 1, 5, 4, 5, 5, 5, 5, 2, 2, 2, 1, 1, 5, 5, 5, 5, 2,\n",
              "       5, 3, 3, 2, 0, 0, 4, 2, 2, 4, 2, 3, 1, 2, 2, 0, 3, 2, 5, 1, 4, 3,\n",
              "       2, 5, 3, 0, 5, 2, 3, 0, 2, 2, 5, 1, 1, 5, 5, 5, 2, 2, 3, 3, 2, 2,\n",
              "       1, 1, 5, 5, 2, 1, 3, 2, 5, 5, 2, 5, 1, 1, 5, 1, 4, 5, 5, 5, 1, 5,\n",
              "       5, 4, 3, 4, 5, 1, 4, 2, 1, 4, 2, 0, 5, 2, 2, 5, 4, 2, 5, 5, 4, 5,\n",
              "       5, 2, 2, 1, 3, 2, 2, 5, 4, 4, 2, 1, 5, 1, 5, 2, 5, 2, 3, 2, 1, 3,\n",
              "       2, 2, 2, 1, 5, 2, 4, 2, 2, 3, 5, 2, 2, 2, 2, 5, 5, 2, 4, 2, 3, 4,\n",
              "       5, 3, 5, 2, 2, 4, 1, 3, 2, 5, 3, 1, 2, 2, 2, 3, 1, 5, 3, 3, 4, 3,\n",
              "       2, 0, 1, 5, 1, 2, 2, 3, 2, 5, 0, 1, 3, 2, 3, 1, 5, 5, 2, 1, 2, 2,\n",
              "       2, 5, 4, 5, 1, 2, 3, 4, 5, 1, 5, 2, 0, 2, 0, 2, 0, 2, 2, 4, 5, 1,\n",
              "       3, 5, 2, 3, 2, 1, 4, 2, 2, 5, 1, 2, 2, 2, 5, 2, 1, 1, 5, 4, 3, 5,\n",
              "       1, 2, 5, 3, 2, 2, 4, 1, 2, 2, 0, 2, 5, 2, 5, 0, 4, 5, 5, 3, 1, 4,\n",
              "       4, 4, 5, 2, 3, 1, 3, 5, 2, 3, 0, 2, 1, 5, 1, 1, 5, 2, 2, 1, 2, 2,\n",
              "       5, 2, 4, 1, 5, 2, 2, 1, 1, 5, 2, 5, 1, 2, 4, 1, 3, 5, 1, 2, 4, 2,\n",
              "       1, 3, 5, 2, 2, 1, 4, 1, 4, 1, 2, 1, 5, 5, 2, 4, 2, 4, 3, 1, 1, 4,\n",
              "       2, 1, 2, 1, 3, 2, 4, 5, 1, 4, 5, 1, 4, 1, 2, 2, 1, 2, 5, 3, 0, 3,\n",
              "       4, 3, 2, 2, 2, 3, 0, 4, 4, 2, 5, 2, 1, 0, 2, 2, 3, 3, 5, 2, 2, 1,\n",
              "       1, 1, 2, 1, 2, 4, 3, 5, 2, 2, 2, 1, 3, 2, 1, 5, 2, 5, 5, 4, 3, 1,\n",
              "       5, 5, 2, 5, 4, 5, 2, 5, 1, 5, 1, 2, 5, 2, 3, 5, 4, 5, 3, 4, 5, 0,\n",
              "       5, 3, 1, 2, 5, 5, 2, 2, 4, 3, 2, 1, 2, 1, 5, 5, 2, 2, 5, 2, 4, 1,\n",
              "       5, 2, 1, 4, 1, 3, 4, 1, 4, 0, 1, 1, 5, 3, 2, 3, 2, 2, 1, 4, 2, 1,\n",
              "       0, 4, 3, 1, 1, 5, 5, 2, 1, 4, 2, 5, 2, 2, 3, 5, 4, 4, 2, 2, 3, 2,\n",
              "       2, 1, 2, 5, 5, 1, 2, 2, 2, 4, 3, 3, 2, 4, 3, 4, 4, 2, 3, 2, 4, 4,\n",
              "       1, 4, 4, 3, 3, 3, 3, 5, 5, 1, 0, 2, 4, 2, 2, 2, 2, 5, 0, 3, 2, 3,\n",
              "       2, 5, 3, 5, 5, 2, 1, 5, 5, 2, 5, 2, 3, 4, 3, 5, 2, 1, 2, 2, 1, 4,\n",
              "       2, 4, 2, 2, 3, 5, 3, 5, 2, 4, 2, 2, 2, 5, 3, 5, 1, 1, 2, 5, 2, 3,\n",
              "       1, 1, 5, 2, 1, 2, 3, 2, 1, 4, 4, 3, 5, 3, 5, 1, 2, 2, 0, 2, 2, 2,\n",
              "       5, 2, 3, 0, 2, 2, 0, 1, 3, 4, 5, 0, 2, 1, 4, 3, 2, 5, 0, 3, 2, 5,\n",
              "       2, 2, 2, 1, 4, 2, 4, 5, 4, 2, 4, 3, 2, 5, 2, 2, 2, 1, 5, 5, 4, 5,\n",
              "       5, 2, 5, 4, 2, 5, 5, 5, 3, 3, 4, 4, 2, 1, 2, 2, 2, 5, 2, 2, 2, 5,\n",
              "       4, 2, 2, 0, 3, 1, 2, 4, 5, 1])"
            ]
          },
          "metadata": {},
          "execution_count": 278
        }
      ]
    },
    {
      "cell_type": "markdown",
      "source": [
        "Array yang diberikan  nilai antara 0 hingga 5. Distribusinya menunjukkan keberagaman kategori, tetapi tidak cukup informasi untuk menyimpulkan perannya."
      ],
      "metadata": {
        "id": "xfJIGFHr0QWb"
      }
    },
    {
      "cell_type": "markdown",
      "source": [
        "## Evaluate Model"
      ],
      "metadata": {
        "id": "L85xtcibvZpo"
      }
    },
    {
      "cell_type": "code",
      "source": [
        "from sklearn.metrics import accuracy_score\n",
        "\n",
        "# Accuracy score\n",
        "print('Model accuracy score: {0:0.4f}'.format(accuracy_score(y_test, y_pred_test)))\n"
      ],
      "metadata": {
        "colab": {
          "base_uri": "https://localhost:8080/"
        },
        "id": "n6vtHQblva8M",
        "outputId": "3c493ab8-7209-4129-92b7-770eec703853"
      },
      "execution_count": null,
      "outputs": [
        {
          "output_type": "stream",
          "name": "stdout",
          "text": [
            "Model accuracy score: 0.1654\n"
          ]
        }
      ]
    },
    {
      "cell_type": "code",
      "source": [
        "# Training and test set scores\n",
        "print('Training set score: {:.4f}'.format(logreg.score(X_train, y_train)))\n",
        "print('Test set score: {:.4f}'.format(logreg.score(X_test, y_test)))\n"
      ],
      "metadata": {
        "colab": {
          "base_uri": "https://localhost:8080/"
        },
        "id": "st4hmjLtve4M",
        "outputId": "d919c6ae-36a8-431e-941b-43cad53a0171"
      },
      "execution_count": null,
      "outputs": [
        {
          "output_type": "stream",
          "name": "stdout",
          "text": [
            "Training set score: 0.2083\n",
            "Test set score: 0.1654\n"
          ]
        }
      ]
    },
    {
      "cell_type": "code",
      "source": [
        "# Confusion Matrix\n",
        "\n",
        "from sklearn.metrics import confusion_matrix\n",
        "\n",
        "cm = confusion_matrix(y_test, y_pred_test)\n",
        "\n",
        "print('Confusion matrix\\n\\n', cm)\n",
        "\n",
        "print('\\nTrue Positives(TP) = ', cm[0,0])\n",
        "\n",
        "print('\\nTrue Negatives(TN) = ', cm[1,1])\n",
        "\n",
        "print('\\nFalse Positives(FP) = ', cm[0,1])\n",
        "\n",
        "print('\\nFalse Negatives(FN) = ', cm[1,0])"
      ],
      "metadata": {
        "colab": {
          "base_uri": "https://localhost:8080/"
        },
        "id": "Itj6zd1Tvja4",
        "outputId": "ba3f0cc0-1cfa-45b3-8727-9cc260888412"
      },
      "execution_count": null,
      "outputs": [
        {
          "output_type": "stream",
          "name": "stdout",
          "text": [
            "Confusion matrix\n",
            "\n",
            " [[ 5 18 51 17 19 29]\n",
            " [ 7 24 33 14 14 32]\n",
            " [ 6 20 51 21 16 27]\n",
            " [ 3 22 39 15 14 28]\n",
            " [ 3 22 42 16 12 28]\n",
            " [ 6 23 43 17 21 22]]\n",
            "\n",
            "True Positives(TP) =  5\n",
            "\n",
            "True Negatives(TN) =  24\n",
            "\n",
            "False Positives(FP) =  18\n",
            "\n",
            "False Negatives(FN) =  7\n"
          ]
        }
      ]
    },
    {
      "source": [
        "import pandas as pd\n",
        "import seaborn as sns\n",
        "\n",
        "cm_subset = cm[0:2, 0:2]\n",
        "\n",
        "# Create the DataFrame with appropriate dimensions for the subset\n",
        "cm_matrix = pd.DataFrame(data=cm_subset,\n",
        "                         columns=[f'Actual {label}' for label in class_labels],\n",
        "                         index=[f'Predicted {label}' for label in class_labels])\n",
        "\n",
        "sns.heatmap(cm_matrix, annot=True, fmt='d', cmap='YlGnBu')"
      ],
      "cell_type": "code",
      "metadata": {
        "colab": {
          "base_uri": "https://localhost:8080/",
          "height": 448
        },
        "id": "FMO0_z3mEC24",
        "outputId": "336a9584-78b6-445f-fa1e-060ab0b93f39"
      },
      "execution_count": null,
      "outputs": [
        {
          "output_type": "execute_result",
          "data": {
            "text/plain": [
              "<Axes: >"
            ]
          },
          "metadata": {},
          "execution_count": 283
        },
        {
          "output_type": "display_data",
          "data": {
            "text/plain": [
              "<Figure size 640x480 with 2 Axes>"
            ],
            "image/png": "[encoded data removed]"
          },
          "metadata": {}
        }
      ]
    },
    {
      "cell_type": "code",
      "source": [
        "from sklearn.metrics import classification_report\n",
        "\n",
        "print(classification_report(y_test, y_pred_test))"
      ],
      "metadata": {
        "colab": {
          "base_uri": "https://localhost:8080/"
        },
        "id": "oaTmutv1vurn",
        "outputId": "422f82b1-4074-405b-e0dc-001f065fcdbc"
      },
      "execution_count": null,
      "outputs": [
        {
          "output_type": "stream",
          "name": "stdout",
          "text": [
            "              precision    recall  f1-score   support\n",
            "\n",
            "           0       0.17      0.04      0.06       139\n",
            "           1       0.19      0.19      0.19       124\n",
            "           2       0.20      0.36      0.26       141\n",
            "           3       0.15      0.12      0.14       121\n",
            "           4       0.12      0.10      0.11       123\n",
            "           5       0.13      0.17      0.15       132\n",
            "\n",
            "    accuracy                           0.17       780\n",
            "   macro avg       0.16      0.16      0.15       780\n",
            "weighted avg       0.16      0.17      0.15       780\n",
            "\n"
          ]
        }
      ]
    },
    {
      "cell_type": "code",
      "source": [
        "TP = cm[0,0]\n",
        "TN = cm[1,1]\n",
        "FP = cm[0,1]\n",
        "FN = cm[1,0]"
      ],
      "metadata": {
        "id": "R4i-6nLYvxav"
      },
      "execution_count": null,
      "outputs": []
    },
    {
      "cell_type": "code",
      "source": [
        "classification_accuracy = (TP + TN) / float(TP + TN + FP + FN)\n",
        "print('Classification accuracy : {0:0.4f}'.format(classification_accuracy))"
      ],
      "metadata": {
        "colab": {
          "base_uri": "https://localhost:8080/"
        },
        "id": "aEyInAD-v0Tf",
        "outputId": "d15af2e1-94f2-4ced-8913-73a0c69d584c"
      },
      "execution_count": null,
      "outputs": [
        {
          "output_type": "stream",
          "name": "stdout",
          "text": [
            "Classification accuracy : 0.5370\n"
          ]
        }
      ]
    },
    {
      "cell_type": "code",
      "source": [
        "classification_error = (FP + FN) / float(TP + TN + FP + FN)\n",
        "print('Classification error : {0:0.4f}'.format(classification_error))"
      ],
      "metadata": {
        "colab": {
          "base_uri": "https://localhost:8080/"
        },
        "id": "mtHOcE4lv2zU",
        "outputId": "fd70389c-a247-44f0-bcbb-de7c89779074"
      },
      "execution_count": null,
      "outputs": [
        {
          "output_type": "stream",
          "name": "stdout",
          "text": [
            "Classification error : 0.4630\n"
          ]
        }
      ]
    },
    {
      "cell_type": "code",
      "source": [
        "precision = TP / float(TP + FP)\n",
        "print('Precision : {0:0.4f}'.format(precision))"
      ],
      "metadata": {
        "colab": {
          "base_uri": "https://localhost:8080/"
        },
        "id": "LdbzLYqDv5hy",
        "outputId": "7211a237-0056-410f-944f-89f8e78f183f"
      },
      "execution_count": null,
      "outputs": [
        {
          "output_type": "stream",
          "name": "stdout",
          "text": [
            "Precision : 0.2174\n"
          ]
        }
      ]
    },
    {
      "cell_type": "code",
      "source": [
        "recall = TP / float(TP + FN)\n",
        "print('Recall or Sensitivity : {0:0.4f}'.format(recall))"
      ],
      "metadata": {
        "colab": {
          "base_uri": "https://localhost:8080/"
        },
        "id": "zKmRM9UXwA0_",
        "outputId": "a7bc4300-a938-46e1-8d6a-f36e5bbc7fc4"
      },
      "execution_count": null,
      "outputs": [
        {
          "output_type": "stream",
          "name": "stdout",
          "text": [
            "Recall or Sensitivity : 0.4167\n"
          ]
        }
      ]
    },
    {
      "cell_type": "markdown",
      "source": [
        "# PREDIKSI DENGAN REGRESI LINIER"
      ],
      "metadata": {
        "id": "TxsrvH5C4lmo"
      }
    },
    {
      "cell_type": "markdown",
      "source": [
        "## Build Model Statsmode"
      ],
      "metadata": {
        "id": "GkduiOQ25jXe"
      }
    },
    {
      "cell_type": "code",
      "source": [
        "X = df[['Age']]\n",
        "y = df['Purchase Amount (USD)']"
      ],
      "metadata": {
        "id": "0fTrmnUL5rJu"
      },
      "execution_count": null,
      "outputs": []
    },
    {
      "cell_type": "code",
      "source": [
        "# Train-Test Split (70% train, 30% test)\n",
        "X_train, X_test, y_train, y_test = train_test_split(X, y, train_size=0.7, random_state=100)\n"
      ],
      "metadata": {
        "id": "aJhyPKPh5016"
      },
      "execution_count": null,
      "outputs": []
    },
    {
      "source": [
        "import statsmodels.api as sm\n",
        "\n",
        "# Menambahkan konstanta untuk model regresi (intercept)\n",
        "X_train_sm = sm.add_constant(X_train)"
      ],
      "cell_type": "code",
      "metadata": {
        "id": "rvqdfzBn6DwJ"
      },
      "execution_count": null,
      "outputs": []
    },
    {
      "cell_type": "code",
      "source": [
        "# Melatih model regresi linier menggunakan statsmodels\n",
        "lr = sm.OLS(y_train, X_train_sm).fit()"
      ],
      "metadata": {
        "id": "tO5HtnUU58tG"
      },
      "execution_count": null,
      "outputs": []
    },
    {
      "cell_type": "code",
      "source": [
        "# Menampilkan ringkasan model\n",
        "print(lr.summary())"
      ],
      "metadata": {
        "colab": {
          "base_uri": "https://localhost:8080/"
        },
        "id": "Nh2qzj8H6Tsr",
        "outputId": "c303de13-7da1-4625-ef13-47c32507a51e"
      },
      "execution_count": null,
      "outputs": [
        {
          "output_type": "stream",
          "name": "stdout",
          "text": [
            "                              OLS Regression Results                             \n",
            "=================================================================================\n",
            "Dep. Variable:     Purchase Amount (USD)   R-squared:                       0.000\n",
            "Model:                               OLS   Adj. R-squared:                 -0.000\n",
            "Method:                    Least Squares   F-statistic:                    0.4857\n",
            "Date:                   Mon, 25 Nov 2024   Prob (F-statistic):              0.486\n",
            "Time:                           06:44:59   Log-Likelihood:                -12509.\n",
            "No. Observations:                   2730   AIC:                         2.502e+04\n",
            "Df Residuals:                       2728   BIC:                         2.503e+04\n",
            "Df Model:                              1                                         \n",
            "Covariance Type:               nonrobust                                         \n",
            "==============================================================================\n",
            "                 coef    std err          t      P>|t|      [0.025      0.975]\n",
            "------------------------------------------------------------------------------\n",
            "const         58.7351      1.413     41.576      0.000      55.965      61.505\n",
            "Age            0.0209      0.030      0.697      0.486      -0.038       0.080\n",
            "==============================================================================\n",
            "Omnibus:                     3018.636   Durbin-Watson:                   1.955\n",
            "Prob(Omnibus):                  0.000   Jarque-Bera (JB):              172.594\n",
            "Skew:                           0.024   Prob(JB):                     3.32e-38\n",
            "Kurtosis:                       1.769   Cond. No.                         147.\n",
            "==============================================================================\n",
            "\n",
            "Notes:\n",
            "[1] Standard Errors assume that the covariance matrix of the errors is correctly specified.\n"
          ]
        }
      ]
    },
    {
      "cell_type": "markdown",
      "source": [
        "Interprestasi OLS Regression Results:\n",
        "\n",
        "1. Nilai R-squared dan Adj. R-squared\n",
        "R-squared: 0.000\n",
        "Nilai ini menunjukkan bahwa Age tidak memiliki kontribusi signifikan dalam menjelaskan variabilitas dari variabel dependen Purchase Amount (USD). Artinya, hubungan antara kedua variabel sangat lemah. Model ini hanya mampu menjelaskan 0% dari variasi Purchase Amount (USD) berdasarkan Age.\n",
        "\n",
        "  Adjusted R-squared: -0.000\n",
        "  Nilai ini memperhitungkan jumlah variabel dalam model dan menunjukkan performa model setelah penyesuaian. Nilai negatif menunjukkan bahwa menambahkan variabel independen (dalam hal ini hanya Age) tidak meningkatkan prediksi dari model.\n",
        "\n",
        "2. Koefisien (Intercept dan Age)\n",
        "Intercept (const): 58.7351\n",
        "Jika Age adalah 0, maka prediksi rata-rata dari Purchase Amount (USD) adalah 58.74. Nilai ini adalah titik awal model regresi linier.\n",
        "\n",
        "  Age (slope): 0.0209\n",
        "  Koefisien untuk Age adalah 0.0209, yang menunjukkan bahwa untuk setiap kenaikan 1 unit Age, Purchase Amount (USD) hanya meningkat sebesar 0.021 USD. Nilai ini menunjukkan hubungan yang sangat kecil antara usia dengan jumlah pembelian.\n",
        "\n",
        "3. p-value untuk Age\n",
        "p-value: 0.486\n",
        "Karena nilai p-value jauh lebih besar dari 0.05 (batas signifikansi umum), koefisien untuk Age tidak signifikan secara statistik. Ini berarti tidak ada cukup bukti untuk menyatakan bahwa Age memengaruhi Purchase Amount (USD).\n",
        "4. Prob (F-statistic): 0.486\n",
        "Probabilitas F-statistik sebesar 0.486 (lebih besar dari 0.05) menunjukkan bahwa model secara keseluruhan tidak signifikan. Ini mengindikasikan bahwa variabel independen Age tidak memberikan penjelasan yang signifikan terhadap variabel dependen Purchase Amount (USD).\n",
        "5. Durbin-Watson: 1.955\n",
        "Nilai ini berada di sekitar 2, yang menunjukkan bahwa tidak ada autokorelasi signifikan dalam residual (kesalahan prediksi). Ini berarti asumsi independensi residual terpenuhi.\n",
        "6. Omnibus dan Jarque-Bera\n",
        "Omnibus dan Jarque-Bera tests menunjukkan bahwa residual tidak berdistribusi normal. Hal ini ditunjukkan oleh nilai probabilitas yang sangat kecil (p-value mendekati 0). Meskipun demikian, ini tidak selalu berarti bahwa model buruk, tetapi ini perlu diperhatikan jika data memiliki pola non-linear.\n",
        "\n",
        "\n",
        "Kesimpulan\n",
        "Hubungan sangat lemah antara Age dan Purchase Amount (USD):\n",
        "Berdasarkan hasil regresi ini, usia tidak memiliki pengaruh yang signifikan terhadap jumlah pembelian.\n"
      ],
      "metadata": {
        "id": "xXHvYzJC7R8m"
      }
    },
    {
      "cell_type": "code",
      "source": [
        "# Mendapatkan parameter regresi (intercept dan slope)\n",
        "intercept, slope = lr.params\n",
        "print(f\"Intercept: {intercept}, Slope: {slope}\")"
      ],
      "metadata": {
        "colab": {
          "base_uri": "https://localhost:8080/"
        },
        "id": "Tg73gI3_6YzA",
        "outputId": "62be4237-ba12-4f9d-9588-ac3af55fb888"
      },
      "execution_count": null,
      "outputs": [
        {
          "output_type": "stream",
          "name": "stdout",
          "text": [
            "Intercept: 58.735103609194425, Slope: 0.020945592310849935\n"
          ]
        }
      ]
    },
    {
      "cell_type": "code",
      "source": [
        "# Visualisasi hasil regresi\n",
        "plt.scatter(X_train, y_train, label=\"Data Asli\")\n",
        "plt.plot(X_train, intercept + slope * X_train, color='red', label=\"Regresi Linier\")\n",
        "plt.xlabel(\"Age\")\n",
        "plt.ylabel(\"Purchase Amount (USD)\")\n",
        "plt.title(\"Regresi Linier: Purchase Amount vs Age\")\n",
        "plt.legend()\n",
        "plt.show()"
      ],
      "metadata": {
        "colab": {
          "base_uri": "https://localhost:8080/",
          "height": 472
        },
        "id": "-3r_B7RO6d4v",
        "outputId": "954e0410-59ce-40a3-b325-b61052aae616"
      },
      "execution_count": null,
      "outputs": [
        {
          "output_type": "display_data",
          "data": {
            "text/plain": [
              "<Figure size 640x480 with 1 Axes>"
            ],
            "image/png": "[encoded data removed]"
          },
          "metadata": {}
        }
      ]
    },
    {
      "cell_type": "markdown",
      "source": [
        "Interpretasi Visual:\n",
        "\n",
        "Jika titik-titik data tersebar cukup dekat dengan garis merah, model memiliki fit yang baik.\n",
        "\n",
        "Jika banyak titik jauh dari garis, ini menunjukkan bahwa ada variabel lain yang memengaruhi hasil (selain Age)."
      ],
      "metadata": {
        "id": "X4pdNKbp69XS"
      }
    },
    {
      "cell_type": "markdown",
      "source": [
        "## Build Model Scikitlearn"
      ],
      "metadata": {
        "id": "qWWPmiar73jW"
      }
    },
    {
      "cell_type": "code",
      "source": [
        "X = df[['Age']]\n",
        "y = df['Purchase Amount (USD)']"
      ],
      "metadata": {
        "id": "eTbTSScQ8Z1W"
      },
      "execution_count": null,
      "outputs": []
    },
    {
      "cell_type": "code",
      "source": [
        "# Train-Test Split (70% train, 30% test)\n",
        "X_train, X_test, y_train, y_test = train_test_split(X, y, train_size=0.7, random_state=100)"
      ],
      "metadata": {
        "id": "9AXM1cbw8uSf"
      },
      "execution_count": null,
      "outputs": []
    },
    {
      "source": [
        "from sklearn.linear_model import LinearRegression\n",
        "# Create a Linear Regression model\n",
        "model = LinearRegression()\n",
        "\n",
        "# Train the model on the training data\n",
        "model.fit(X_train, y_train)\n",
        "\n",
        "# Print the intercept and coefficient\n",
        "print(f\"Intercept: {model.intercept_}\")\n",
        "print(f\"Coefficient: {model.coef_[0]}\")"
      ],
      "cell_type": "code",
      "metadata": {
        "colab": {
          "base_uri": "https://localhost:8080/"
        },
        "id": "nTjaakum_DAF",
        "outputId": "f81b374b-0b3a-4936-db28-4a6152a31653"
      },
      "execution_count": null,
      "outputs": [
        {
          "output_type": "stream",
          "name": "stdout",
          "text": [
            "Intercept: 58.73510360919442\n",
            "Coefficient: 0.020945592310850084\n"
          ]
        }
      ]
    },
    {
      "cell_type": "markdown",
      "source": [
        "Interpresentasi  Intercept dan Koefisien\n",
        "\n",
        "- Intercept: Nilai konstanta yang diperoleh (contoh: 58.7351) menunjukkan bahwa jika usia (Age) adalah nol, maka rata-rata nilai prediksi Purchase Amount (USD) adalah sekitar nilai intercept tersebut. Namun, dalam konteks ini, usia nol tidak relevan secara logis, jadi intercept lebih digunakan untuk menghitung prediksi.\n",
        "\n",
        "- Koefisien: Koefisien yang diperoleh (contoh: 0.0209) menunjukkan bahwa untuk setiap peningkatan usia sebesar 1 tahun, rata-rata Purchase Amount (USD) meningkat sebesar 0.0209 unit (atau 2,09 sen). Koefisien kecil ini menunjukkan hubungan yang sangat lemah antara usia dan jumlah pembelian."
      ],
      "metadata": {
        "id": "0fbyL-KWBemy"
      }
    },
    {
      "cell_type": "code",
      "source": [
        "# Predict the purchase amounts for the test set\n",
        "y_pred = model.predict(X_test)\n",
        "\n",
        "# Display the first few predictions alongside the actual values\n",
        "predictions = pd.DataFrame({'Actual': y_test, 'Predicted': y_pred})\n",
        "print(predictions.head())"
      ],
      "metadata": {
        "colab": {
          "base_uri": "https://localhost:8080/"
        },
        "id": "ItCT-ezs-THV",
        "outputId": "c9adb4ed-c67d-4c37-fbe6-6c221cce2691"
      },
      "execution_count": null,
      "outputs": [
        {
          "output_type": "stream",
          "name": "stdout",
          "text": [
            "      Actual  Predicted\n",
            "1726      28  59.929002\n",
            "3339      99  59.154015\n",
            "779       94  59.991839\n",
            "366       36  60.075622\n",
            "1048      77  59.363471\n"
          ]
        }
      ]
    },
    {
      "cell_type": "code",
      "source": [
        "# Plot the actual data points\n",
        "plt.scatter(X_test, y_test, color='blue', label='Actual')\n",
        "\n",
        "# Plot the regression line\n",
        "plt.plot(X_test, y_pred, color='red', label='Regression Line')\n",
        "\n",
        "# Add labels and title\n",
        "plt.xlabel('Age')\n",
        "plt.ylabel('Purchase Amount (USD)')\n",
        "plt.title('Simple Linear Regression: Age vs. Purchase Amount')\n",
        "plt.legend()\n",
        "plt.show()"
      ],
      "metadata": {
        "id": "hkkQfAzZ-Xa6"
      },
      "execution_count": null,
      "outputs": []
    },
    {
      "cell_type": "markdown",
      "source": [
        "Interprestasi\n",
        "- Scatter plot (titik biru): Menampilkan nilai aktual Purchase Amount (USD) terhadap Age.\n",
        "\n",
        "- Regression line (garis merah): Menampilkan garis terbaik yang dihasilkan oleh model. Garis ini menunjukkan hubungan linier antara usia dan jumlah pembelian berdasarkan model.\n",
        "\n",
        "Observasi dari Plot:\n",
        "\n",
        "Garis regresi cenderung horizontal, yang menunjukkan bahwa Age hampir tidak berpengaruh pada Purchase Amount (USD).\n",
        "Banyak titik data (nilai aktual) yang berada jauh dari garis regresi, menandakan bahwa model ini tidak dapat menjelaskan variabilitas dalam data dengan baik."
      ],
      "metadata": {
        "id": "ZWWUJrEgBwpv"
      }
    },
    {
      "cell_type": "markdown",
      "source": [
        "## Evaluate Model Statsmodel"
      ],
      "metadata": {
        "id": "qdYIR8w3_06O"
      }
    },
    {
      "cell_type": "code",
      "source": [
        "y_train_pred = lr.predict(X_train_sm)\n",
        "res = (y_train - y_train_pred)"
      ],
      "metadata": {
        "id": "21dDMiS5-aC-"
      },
      "execution_count": null,
      "outputs": []
    },
    {
      "cell_type": "code",
      "source": [
        "fig = plt.figure()\n",
        "sns.distplot(res, bins = 15)\n",
        "fig.suptitle('Error Terms', fontsize = 15)                  # Plot heading\n",
        "plt.xlabel('y_train - y_train_pred', fontsize = 15)         # X-label\n",
        "plt.show()"
      ],
      "metadata": {
        "colab": {
          "base_uri": "https://localhost:8080/",
          "height": 705
        },
        "id": "01Jmw08L_3ZA",
        "outputId": "d09e1cbe-d8e7-42fe-9e11-9c743846f0fe"
      },
      "execution_count": null,
      "outputs": [
        {
          "output_type": "stream",
          "name": "stderr",
          "text": [
            "<ipython-input-301-18430177a6b9>:2: UserWarning: \n",
            "\n",
            "`distplot` is a deprecated function and will be removed in seaborn v0.14.0.\n",
            "\n",
            "Please adapt your code to use either `displot` (a figure-level function with\n",
            "similar flexibility) or `histplot` (an axes-level function for histograms).\n",
            "\n",
            "For a guide to updating your code to use the new functions, please see\n",
            "https://gist.github.com/mwaskom/de44147ed2974457ad6372750bbe5751\n",
            "\n",
            "  sns.distplot(res, bins = 15)\n"
          ]
        },
        {
          "output_type": "display_data",
          "data": {
            "text/plain": [
              "<Figure size 640x480 with 1 Axes>"
            ],
            "image/png": "[encoded data removed]"
          },
          "metadata": {}
        }
      ]
    },
    {
      "cell_type": "code",
      "source": [
        "plt.scatter(X_train,res)\n",
        "plt.show()"
      ],
      "metadata": {
        "colab": {
          "base_uri": "https://localhost:8080/",
          "height": 430
        },
        "id": "LXlQ_Rnm_9c_",
        "outputId": "b71ec97f-ce57-4957-b7c4-e6baebed12d1"
      },
      "execution_count": null,
      "outputs": [
        {
          "output_type": "display_data",
          "data": {
            "text/plain": [
              "<Figure size 640x480 with 1 Axes>"
            ],
            "image/png": "[encoded data removed]"
          },
          "metadata": {}
        }
      ]
    },
    {
      "cell_type": "code",
      "source": [
        "# Add a constant to X_test\n",
        "X_test_sm = sm.add_constant(X_test)\n",
        "\n",
        "# Predict the y values corresponding to X_test_sm\n",
        "y_pred = lr.predict(X_test_sm)"
      ],
      "metadata": {
        "id": "0OH3YzpPAC1O"
      },
      "execution_count": null,
      "outputs": []
    },
    {
      "cell_type": "code",
      "source": [
        "!pip install scikit-learn\n",
        "from sklearn.metrics import mean_squared_error\n",
        "import numpy as np\n",
        "\n",
        "# mean squared error\n",
        "np.sqrt(mean_squared_error(y_test, y_pred))"
      ],
      "metadata": {
        "colab": {
          "base_uri": "https://localhost:8080/"
        },
        "id": "2fuEM7FmAH2I",
        "outputId": "9daae2b1-f2c0-418d-c4ac-db797ddbb4b5"
      },
      "execution_count": null,
      "outputs": [
        {
          "output_type": "stream",
          "name": "stdout",
          "text": [
            "Requirement already satisfied: scikit-learn in /usr/local/lib/python3.10/dist-packages (1.5.2)\n",
            "Requirement already satisfied: numpy>=1.19.5 in /usr/local/lib/python3.10/dist-packages (from scikit-learn) (1.26.4)\n",
            "Requirement already satisfied: scipy>=1.6.0 in /usr/local/lib/python3.10/dist-packages (from scikit-learn) (1.13.1)\n",
            "Requirement already satisfied: joblib>=1.2.0 in /usr/local/lib/python3.10/dist-packages (from scikit-learn) (1.4.2)\n",
            "Requirement already satisfied: threadpoolctl>=3.1.0 in /usr/local/lib/python3.10/dist-packages (from scikit-learn) (3.5.0)\n"
          ]
        },
        {
          "output_type": "execute_result",
          "data": {
            "text/plain": [
              "23.78980919698585"
            ]
          },
          "metadata": {},
          "execution_count": 304
        }
      ]
    },
    {
      "source": [
        "from sklearn.metrics import r2_score\n",
        "\n",
        "# R-squared\n",
        "r_squared = r2_score(y_test, y_pred)\n",
        "r_squared"
      ],
      "cell_type": "code",
      "metadata": {
        "colab": {
          "base_uri": "https://localhost:8080/"
        },
        "id": "VXVw3khoBAat",
        "outputId": "d9dec4ab-23cb-4e52-f534-75b15c37a641"
      },
      "execution_count": null,
      "outputs": [
        {
          "output_type": "execute_result",
          "data": {
            "text/plain": [
              "-0.0021331541129829823"
            ]
          },
          "metadata": {},
          "execution_count": 306
        }
      ]
    },
    {
      "cell_type": "markdown",
      "source": [
        "Interpretasi R-Squared Nilai mendekati nol atau negatif seperti ini menandakan bahwa model bahkan memberikan hasil yang lebih buruk daripada tebakan sederhana berdasarkan rata-rata target"
      ],
      "metadata": {
        "id": "Bn-k4B9VSvrL"
      }
    },
    {
      "cell_type": "markdown",
      "source": [
        "## Evaluate Model Scikitlearn"
      ],
      "metadata": {
        "id": "xpPntJHoAbGx"
      }
    },
    {
      "cell_type": "code",
      "source": [
        "# Calculate Mean Squared Error (MSE)\n",
        "mse = mean_squared_error(y_test, y_pred)\n",
        "print(f\"Mean Squared Error: {mse}\")\n",
        "\n",
        "# Calculate R-squared score\n",
        "r2 = r2_score(y_test, y_pred)\n",
        "print(f\"R-squared score: {r2}\")"
      ],
      "metadata": {
        "colab": {
          "base_uri": "https://localhost:8080/"
        },
        "id": "ZHxFi5SOAMEq",
        "outputId": "e733d8ee-03f1-411e-8445-7965dad49d50"
      },
      "execution_count": null,
      "outputs": [
        {
          "output_type": "stream",
          "name": "stdout",
          "text": [
            "Mean Squared Error: 565.9550216289925\n",
            "R-squared score: -0.0021331541129829823\n"
          ]
        }
      ]
    }
  ]
}